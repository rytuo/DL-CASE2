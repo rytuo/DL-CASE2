{
 "cells": [
  {
   "cell_type": "markdown",
   "metadata": {},
   "source": [
    "# Matching algorithm\n",
    "\n",
    "### Prerequisites\n",
    "\n",
    "Download processed datasets via `git lfs fetch --include \"data/processed/*.csv\"`\n",
    "\n",
    "or create them from scratch with [preprocess.ipynb](./preprocess.ipynb)"
   ]
  },
  {
   "cell_type": "code",
   "execution_count": 39,
   "metadata": {},
   "outputs": [
    {
     "name": "stderr",
     "output_type": "stream",
     "text": [
      "huggingface/tokenizers: The current process just got forked, after parallelism has already been used. Disabling parallelism to avoid deadlocks...\n",
      "To disable this warning, you can either:\n",
      "\t- Avoid using `tokenizers` before the fork if possible\n",
      "\t- Explicitly set the environment variable TOKENIZERS_PARALLELISM=(true | false)\n"
     ]
    },
    {
     "name": "stdout",
     "output_type": "stream",
     "text": [
      "Requirement already satisfied: pandas in /Users/alv.popov/prj/DL-CASE2/venv/lib/python3.11/site-packages (2.1.4)\n",
      "Requirement already satisfied: numpy<2,>=1.23.2 in /Users/alv.popov/prj/DL-CASE2/venv/lib/python3.11/site-packages (from pandas) (1.26.2)\n",
      "Requirement already satisfied: python-dateutil>=2.8.2 in /Users/alv.popov/prj/DL-CASE2/venv/lib/python3.11/site-packages (from pandas) (2.8.2)\n",
      "Requirement already satisfied: pytz>=2020.1 in /Users/alv.popov/prj/DL-CASE2/venv/lib/python3.11/site-packages (from pandas) (2023.3.post1)\n",
      "Requirement already satisfied: tzdata>=2022.1 in /Users/alv.popov/prj/DL-CASE2/venv/lib/python3.11/site-packages (from pandas) (2023.3)\n",
      "Requirement already satisfied: six>=1.5 in /Users/alv.popov/prj/DL-CASE2/venv/lib/python3.11/site-packages (from python-dateutil>=2.8.2->pandas) (1.16.0)\n"
     ]
    },
    {
     "name": "stderr",
     "output_type": "stream",
     "text": [
      "huggingface/tokenizers: The current process just got forked, after parallelism has already been used. Disabling parallelism to avoid deadlocks...\n",
      "To disable this warning, you can either:\n",
      "\t- Avoid using `tokenizers` before the fork if possible\n",
      "\t- Explicitly set the environment variable TOKENIZERS_PARALLELISM=(true | false)\n"
     ]
    },
    {
     "name": "stdout",
     "output_type": "stream",
     "text": [
      "Requirement already satisfied: scikit-learn in /Users/alv.popov/prj/DL-CASE2/venv/lib/python3.11/site-packages (1.3.2)\n",
      "Requirement already satisfied: numpy<2.0,>=1.17.3 in /Users/alv.popov/prj/DL-CASE2/venv/lib/python3.11/site-packages (from scikit-learn) (1.26.2)\n",
      "Requirement already satisfied: scipy>=1.5.0 in /Users/alv.popov/prj/DL-CASE2/venv/lib/python3.11/site-packages (from scikit-learn) (1.11.4)\n",
      "Requirement already satisfied: joblib>=1.1.1 in /Users/alv.popov/prj/DL-CASE2/venv/lib/python3.11/site-packages (from scikit-learn) (1.3.2)\n",
      "Requirement already satisfied: threadpoolctl>=2.0.0 in /Users/alv.popov/prj/DL-CASE2/venv/lib/python3.11/site-packages (from scikit-learn) (3.2.0)\n"
     ]
    },
    {
     "name": "stderr",
     "output_type": "stream",
     "text": [
      "huggingface/tokenizers: The current process just got forked, after parallelism has already been used. Disabling parallelism to avoid deadlocks...\n",
      "To disable this warning, you can either:\n",
      "\t- Avoid using `tokenizers` before the fork if possible\n",
      "\t- Explicitly set the environment variable TOKENIZERS_PARALLELISM=(true | false)\n"
     ]
    },
    {
     "name": "stdout",
     "output_type": "stream",
     "text": [
      "Requirement already satisfied: nltk in /Users/alv.popov/prj/DL-CASE2/venv/lib/python3.11/site-packages (3.8.1)\n",
      "Requirement already satisfied: click in /Users/alv.popov/prj/DL-CASE2/venv/lib/python3.11/site-packages (from nltk) (8.1.7)\n",
      "Requirement already satisfied: joblib in /Users/alv.popov/prj/DL-CASE2/venv/lib/python3.11/site-packages (from nltk) (1.3.2)\n",
      "Requirement already satisfied: regex>=2021.8.3 in /Users/alv.popov/prj/DL-CASE2/venv/lib/python3.11/site-packages (from nltk) (2023.10.3)\n",
      "Requirement already satisfied: tqdm in /Users/alv.popov/prj/DL-CASE2/venv/lib/python3.11/site-packages (from nltk) (4.66.1)\n"
     ]
    },
    {
     "name": "stderr",
     "output_type": "stream",
     "text": [
      "huggingface/tokenizers: The current process just got forked, after parallelism has already been used. Disabling parallelism to avoid deadlocks...\n",
      "To disable this warning, you can either:\n",
      "\t- Avoid using `tokenizers` before the fork if possible\n",
      "\t- Explicitly set the environment variable TOKENIZERS_PARALLELISM=(true | false)\n"
     ]
    },
    {
     "name": "stdout",
     "output_type": "stream",
     "text": [
      "Requirement already satisfied: sentence-transformers in /Users/alv.popov/prj/DL-CASE2/venv/lib/python3.11/site-packages (2.2.2)\n",
      "Requirement already satisfied: transformers<5.0.0,>=4.6.0 in /Users/alv.popov/prj/DL-CASE2/venv/lib/python3.11/site-packages (from sentence-transformers) (4.36.1)\n",
      "Requirement already satisfied: tqdm in /Users/alv.popov/prj/DL-CASE2/venv/lib/python3.11/site-packages (from sentence-transformers) (4.66.1)\n",
      "Requirement already satisfied: torch>=1.6.0 in /Users/alv.popov/prj/DL-CASE2/venv/lib/python3.11/site-packages (from sentence-transformers) (2.1.2)\n",
      "Requirement already satisfied: torchvision in /Users/alv.popov/prj/DL-CASE2/venv/lib/python3.11/site-packages (from sentence-transformers) (0.16.2)\n",
      "Requirement already satisfied: numpy in /Users/alv.popov/prj/DL-CASE2/venv/lib/python3.11/site-packages (from sentence-transformers) (1.26.2)\n",
      "Requirement already satisfied: scikit-learn in /Users/alv.popov/prj/DL-CASE2/venv/lib/python3.11/site-packages (from sentence-transformers) (1.3.2)\n",
      "Requirement already satisfied: scipy in /Users/alv.popov/prj/DL-CASE2/venv/lib/python3.11/site-packages (from sentence-transformers) (1.11.4)\n",
      "Requirement already satisfied: nltk in /Users/alv.popov/prj/DL-CASE2/venv/lib/python3.11/site-packages (from sentence-transformers) (3.8.1)\n",
      "Requirement already satisfied: sentencepiece in /Users/alv.popov/prj/DL-CASE2/venv/lib/python3.11/site-packages (from sentence-transformers) (0.1.99)\n",
      "Requirement already satisfied: huggingface-hub>=0.4.0 in /Users/alv.popov/prj/DL-CASE2/venv/lib/python3.11/site-packages (from sentence-transformers) (0.19.4)\n",
      "Requirement already satisfied: filelock in /Users/alv.popov/prj/DL-CASE2/venv/lib/python3.11/site-packages (from huggingface-hub>=0.4.0->sentence-transformers) (3.13.1)\n",
      "Requirement already satisfied: fsspec>=2023.5.0 in /Users/alv.popov/prj/DL-CASE2/venv/lib/python3.11/site-packages (from huggingface-hub>=0.4.0->sentence-transformers) (2023.12.2)\n",
      "Requirement already satisfied: requests in /Users/alv.popov/prj/DL-CASE2/venv/lib/python3.11/site-packages (from huggingface-hub>=0.4.0->sentence-transformers) (2.31.0)\n",
      "Requirement already satisfied: pyyaml>=5.1 in /Users/alv.popov/prj/DL-CASE2/venv/lib/python3.11/site-packages (from huggingface-hub>=0.4.0->sentence-transformers) (6.0.1)\n",
      "Requirement already satisfied: typing-extensions>=3.7.4.3 in /Users/alv.popov/prj/DL-CASE2/venv/lib/python3.11/site-packages (from huggingface-hub>=0.4.0->sentence-transformers) (4.9.0)\n",
      "Requirement already satisfied: packaging>=20.9 in /Users/alv.popov/prj/DL-CASE2/venv/lib/python3.11/site-packages (from huggingface-hub>=0.4.0->sentence-transformers) (23.2)\n",
      "Requirement already satisfied: sympy in /Users/alv.popov/prj/DL-CASE2/venv/lib/python3.11/site-packages (from torch>=1.6.0->sentence-transformers) (1.12)\n",
      "Requirement already satisfied: networkx in /Users/alv.popov/prj/DL-CASE2/venv/lib/python3.11/site-packages (from torch>=1.6.0->sentence-transformers) (3.2.1)\n",
      "Requirement already satisfied: jinja2 in /Users/alv.popov/prj/DL-CASE2/venv/lib/python3.11/site-packages (from torch>=1.6.0->sentence-transformers) (3.1.2)\n",
      "Requirement already satisfied: regex!=2019.12.17 in /Users/alv.popov/prj/DL-CASE2/venv/lib/python3.11/site-packages (from transformers<5.0.0,>=4.6.0->sentence-transformers) (2023.10.3)\n",
      "Requirement already satisfied: tokenizers<0.19,>=0.14 in /Users/alv.popov/prj/DL-CASE2/venv/lib/python3.11/site-packages (from transformers<5.0.0,>=4.6.0->sentence-transformers) (0.15.0)\n",
      "Requirement already satisfied: safetensors>=0.3.1 in /Users/alv.popov/prj/DL-CASE2/venv/lib/python3.11/site-packages (from transformers<5.0.0,>=4.6.0->sentence-transformers) (0.4.1)\n",
      "Requirement already satisfied: click in /Users/alv.popov/prj/DL-CASE2/venv/lib/python3.11/site-packages (from nltk->sentence-transformers) (8.1.7)\n",
      "Requirement already satisfied: joblib in /Users/alv.popov/prj/DL-CASE2/venv/lib/python3.11/site-packages (from nltk->sentence-transformers) (1.3.2)\n",
      "Requirement already satisfied: threadpoolctl>=2.0.0 in /Users/alv.popov/prj/DL-CASE2/venv/lib/python3.11/site-packages (from scikit-learn->sentence-transformers) (3.2.0)\n",
      "Requirement already satisfied: pillow!=8.3.*,>=5.3.0 in /Users/alv.popov/prj/DL-CASE2/venv/lib/python3.11/site-packages (from torchvision->sentence-transformers) (10.1.0)\n",
      "Requirement already satisfied: MarkupSafe>=2.0 in /Users/alv.popov/prj/DL-CASE2/venv/lib/python3.11/site-packages (from jinja2->torch>=1.6.0->sentence-transformers) (2.1.3)\n",
      "Requirement already satisfied: charset-normalizer<4,>=2 in /Users/alv.popov/prj/DL-CASE2/venv/lib/python3.11/site-packages (from requests->huggingface-hub>=0.4.0->sentence-transformers) (3.3.2)\n",
      "Requirement already satisfied: idna<4,>=2.5 in /Users/alv.popov/prj/DL-CASE2/venv/lib/python3.11/site-packages (from requests->huggingface-hub>=0.4.0->sentence-transformers) (3.6)\n",
      "Requirement already satisfied: urllib3<3,>=1.21.1 in /Users/alv.popov/prj/DL-CASE2/venv/lib/python3.11/site-packages (from requests->huggingface-hub>=0.4.0->sentence-transformers) (2.1.0)\n",
      "Requirement already satisfied: certifi>=2017.4.17 in /Users/alv.popov/prj/DL-CASE2/venv/lib/python3.11/site-packages (from requests->huggingface-hub>=0.4.0->sentence-transformers) (2023.11.17)\n",
      "Requirement already satisfied: mpmath>=0.19 in /Users/alv.popov/prj/DL-CASE2/venv/lib/python3.11/site-packages (from sympy->torch>=1.6.0->sentence-transformers) (1.3.0)\n"
     ]
    },
    {
     "name": "stderr",
     "output_type": "stream",
     "text": [
      "huggingface/tokenizers: The current process just got forked, after parallelism has already been used. Disabling parallelism to avoid deadlocks...\n",
      "To disable this warning, you can either:\n",
      "\t- Avoid using `tokenizers` before the fork if possible\n",
      "\t- Explicitly set the environment variable TOKENIZERS_PARALLELISM=(true | false)\n"
     ]
    },
    {
     "name": "stdout",
     "output_type": "stream",
     "text": [
      "Requirement already satisfied: numpy in /Users/alv.popov/prj/DL-CASE2/venv/lib/python3.11/site-packages (1.26.2)\n"
     ]
    }
   ],
   "source": [
    "!pip install pandas\n",
    "!pip install scikit-learn\n",
    "!pip install nltk\n",
    "!pip install sentence-transformers\n",
    "!pip install numpy"
   ]
  },
  {
   "cell_type": "code",
   "execution_count": 40,
   "metadata": {},
   "outputs": [],
   "source": [
    "import os\n",
    "import os.path as path\n",
    "import pandas as pd\n",
    "from sklearn.metrics.pairwise import cosine_similarity\n",
    "from sentence_transformers import SentenceTransformer\n",
    "import numpy as np"
   ]
  },
  {
   "cell_type": "code",
   "execution_count": 41,
   "metadata": {},
   "outputs": [
    {
     "data": {
      "text/plain": [
       "'/Users/alv.popov/prj/DL-CASE2/data/processed/cvs.csv'"
      ]
     },
     "execution_count": 41,
     "metadata": {},
     "output_type": "execute_result"
    }
   ],
   "source": [
    "root_dir = path.dirname(path.abspath(os.getcwd()))\n",
    "data_dir = path.join(root_dir, 'data')\n",
    "processed_data_dir = path.join(data_dir, 'processed')\n",
    "\n",
    "processed_vacancies_path = path.join(processed_data_dir, 'vacancies.csv')\n",
    "processed_cvs_path = path.join(processed_data_dir, 'cvs.csv')\n",
    "\n",
    "processed_cvs_path"
   ]
  },
  {
   "cell_type": "code",
   "execution_count": 42,
   "metadata": {},
   "outputs": [
    {
     "data": {
      "text/html": [
       "<div>\n",
       "<style scoped>\n",
       "    .dataframe tbody tr th:only-of-type {\n",
       "        vertical-align: middle;\n",
       "    }\n",
       "\n",
       "    .dataframe tbody tr th {\n",
       "        vertical-align: top;\n",
       "    }\n",
       "\n",
       "    .dataframe thead th {\n",
       "        text-align: right;\n",
       "    }\n",
       "</style>\n",
       "<table border=\"1\" class=\"dataframe\">\n",
       "  <thead>\n",
       "    <tr style=\"text-align: right;\">\n",
       "      <th></th>\n",
       "      <th>text</th>\n",
       "    </tr>\n",
       "  </thead>\n",
       "  <tbody>\n",
       "    <tr>\n",
       "      <th>0</th>\n",
       "      <td>Project R’n’D / Технолог R’n’D . MF Kitchen — ...</td>\n",
       "    </tr>\n",
       "    <tr>\n",
       "      <th>1</th>\n",
       "      <td>Продавец-кассир (Москва, Богданова, 16) . Обяз...</td>\n",
       "    </tr>\n",
       "    <tr>\n",
       "      <th>2</th>\n",
       "      <td>Продавец-кассир (Москва, Новогиреевская, 11/36...</td>\n",
       "    </tr>\n",
       "    <tr>\n",
       "      <th>3</th>\n",
       "      <td>Product owner бизнес–стрима \"Аналитика и Отчет...</td>\n",
       "    </tr>\n",
       "    <tr>\n",
       "      <th>4</th>\n",
       "      <td>Business Development Director (CTO) . Студия О...</td>\n",
       "    </tr>\n",
       "    <tr>\n",
       "      <th>...</th>\n",
       "      <td>...</td>\n",
       "    </tr>\n",
       "    <tr>\n",
       "      <th>96220</th>\n",
       "      <td>Оператор 1C .   ТД «ЛФБ» - семейная компания, ...</td>\n",
       "    </tr>\n",
       "    <tr>\n",
       "      <th>96221</th>\n",
       "      <td>Стажер Управления финансирования торговли . КР...</td>\n",
       "    </tr>\n",
       "    <tr>\n",
       "      <th>96222</th>\n",
       "      <td>Преподаватель математики/информатики . Обязанн...</td>\n",
       "    </tr>\n",
       "    <tr>\n",
       "      <th>96223</th>\n",
       "      <td>Программист С++ / Linux . Требования:  Знание ...</td>\n",
       "    </tr>\n",
       "    <tr>\n",
       "      <th>96224</th>\n",
       "      <td>Бухгалтер . В динамично развивающуюся компанию...</td>\n",
       "    </tr>\n",
       "  </tbody>\n",
       "</table>\n",
       "<p>96225 rows × 1 columns</p>\n",
       "</div>"
      ],
      "text/plain": [
       "                                                    text\n",
       "0      Project R’n’D / Технолог R’n’D . MF Kitchen — ...\n",
       "1      Продавец-кассир (Москва, Богданова, 16) . Обяз...\n",
       "2      Продавец-кассир (Москва, Новогиреевская, 11/36...\n",
       "3      Product owner бизнес–стрима \"Аналитика и Отчет...\n",
       "4      Business Development Director (CTO) . Студия О...\n",
       "...                                                  ...\n",
       "96220  Оператор 1C .   ТД «ЛФБ» - семейная компания, ...\n",
       "96221  Стажер Управления финансирования торговли . КР...\n",
       "96222  Преподаватель математики/информатики . Обязанн...\n",
       "96223  Программист С++ / Linux . Требования:  Знание ...\n",
       "96224  Бухгалтер . В динамично развивающуюся компанию...\n",
       "\n",
       "[96225 rows x 1 columns]"
      ]
     },
     "execution_count": 42,
     "metadata": {},
     "output_type": "execute_result"
    }
   ],
   "source": [
    "processed_vacancies = pd.read_csv(processed_vacancies_path)\n",
    "processed_vacancies"
   ]
  },
  {
   "cell_type": "code",
   "execution_count": 43,
   "metadata": {},
   "outputs": [
    {
     "data": {
      "text/html": [
       "<div>\n",
       "<style scoped>\n",
       "    .dataframe tbody tr th:only-of-type {\n",
       "        vertical-align: middle;\n",
       "    }\n",
       "\n",
       "    .dataframe tbody tr th {\n",
       "        vertical-align: top;\n",
       "    }\n",
       "\n",
       "    .dataframe thead th {\n",
       "        text-align: right;\n",
       "    }\n",
       "</style>\n",
       "<table border=\"1\" class=\"dataframe\">\n",
       "  <thead>\n",
       "    <tr style=\"text-align: right;\">\n",
       "      <th></th>\n",
       "      <th>text</th>\n",
       "    </tr>\n",
       "  </thead>\n",
       "  <tbody>\n",
       "    <tr>\n",
       "      <th>0</th>\n",
       "      <td>Мужчина ,  39 лет , родился 27 ноября 1979 . С...</td>\n",
       "    </tr>\n",
       "    <tr>\n",
       "      <th>1</th>\n",
       "      <td>Мужчина ,  60 лет , родился 20 марта 1959 . Те...</td>\n",
       "    </tr>\n",
       "    <tr>\n",
       "      <th>2</th>\n",
       "      <td>Женщина ,  36 лет , родилась 12 августа 1982 ....</td>\n",
       "    </tr>\n",
       "    <tr>\n",
       "      <th>3</th>\n",
       "      <td>Мужчина ,  38 лет , родился 25 июня 1980 . Веб...</td>\n",
       "    </tr>\n",
       "    <tr>\n",
       "      <th>4</th>\n",
       "      <td>Женщина ,  26 лет , родилась 3 марта 1993 . Ре...</td>\n",
       "    </tr>\n",
       "    <tr>\n",
       "      <th>...</th>\n",
       "      <td>...</td>\n",
       "    </tr>\n",
       "    <tr>\n",
       "      <th>44739</th>\n",
       "      <td>Мужчина ,  30 лет , родился 17 января 1989 . Ф...</td>\n",
       "    </tr>\n",
       "    <tr>\n",
       "      <th>44740</th>\n",
       "      <td>Мужчина ,  27 лет , родился 5 марта 1992 . Сис...</td>\n",
       "    </tr>\n",
       "    <tr>\n",
       "      <th>44741</th>\n",
       "      <td>Женщина ,  48 лет , родилась 26 декабря 1970 ....</td>\n",
       "    </tr>\n",
       "    <tr>\n",
       "      <th>44742</th>\n",
       "      <td>Мужчина ,  24 года , родился 6 октября 1994 . ...</td>\n",
       "    </tr>\n",
       "    <tr>\n",
       "      <th>44743</th>\n",
       "      <td>Мужчина ,  38 лет , родился 25 апреля 1980 . Р...</td>\n",
       "    </tr>\n",
       "  </tbody>\n",
       "</table>\n",
       "<p>44744 rows × 1 columns</p>\n",
       "</div>"
      ],
      "text/plain": [
       "                                                    text\n",
       "0      Мужчина ,  39 лет , родился 27 ноября 1979 . С...\n",
       "1      Мужчина ,  60 лет , родился 20 марта 1959 . Те...\n",
       "2      Женщина ,  36 лет , родилась 12 августа 1982 ....\n",
       "3      Мужчина ,  38 лет , родился 25 июня 1980 . Веб...\n",
       "4      Женщина ,  26 лет , родилась 3 марта 1993 . Ре...\n",
       "...                                                  ...\n",
       "44739  Мужчина ,  30 лет , родился 17 января 1989 . Ф...\n",
       "44740  Мужчина ,  27 лет , родился 5 марта 1992 . Сис...\n",
       "44741  Женщина ,  48 лет , родилась 26 декабря 1970 ....\n",
       "44742  Мужчина ,  24 года , родился 6 октября 1994 . ...\n",
       "44743  Мужчина ,  38 лет , родился 25 апреля 1980 . Р...\n",
       "\n",
       "[44744 rows x 1 columns]"
      ]
     },
     "execution_count": 43,
     "metadata": {},
     "output_type": "execute_result"
    }
   ],
   "source": [
    "processed_cvs = pd.read_csv(processed_cvs_path)\n",
    "processed_cvs"
   ]
  },
  {
   "cell_type": "code",
   "execution_count": 44,
   "metadata": {},
   "outputs": [],
   "source": [
    "model = SentenceTransformer('cointegrated/LaBSE-en-ru')"
   ]
  },
  {
   "cell_type": "code",
   "execution_count": 45,
   "metadata": {},
   "outputs": [
    {
     "data": {
      "text/plain": [
       "0.39085472"
      ]
     },
     "execution_count": 45,
     "metadata": {},
     "output_type": "execute_result"
    }
   ],
   "source": [
    "vacancy_embeddings = model.encode(processed_vacancies['text'][0])\n",
    "cv_embeddings = model.encode(processed_cvs['text'][0])\n",
    "\n",
    "cosine_similarity([vacancy_embeddings], [cv_embeddings])[0][0]"
   ]
  },
  {
   "cell_type": "code",
   "execution_count": 46,
   "metadata": {},
   "outputs": [
    {
     "name": "stdout",
     "output_type": "stream",
     "text": [
      "0.5560857\t0.60102564\t0.46651688\t0.5941452\t0.5036321\t0.6468186\t0.5476116\t0.459289\t0.44116914\t0.54149556\n",
      "0.61388296\t0.70549953\t0.53421474\t0.6247531\t0.56836885\t0.7068291\t0.51328135\t0.6067818\t0.5182052\t0.60286605\n",
      "0.5653487\t0.5213471\t0.5465622\t0.5056963\t0.38834623\t0.45620775\t0.40628546\t0.47590825\t0.43251607\t0.3651454\n",
      "0.5163249\t0.586914\t0.49920782\t0.48795044\t0.4547744\t0.59781855\t0.50101376\t0.5595152\t0.42453918\t0.5277907\n",
      "0.5464641\t0.66892964\t0.4538477\t0.62875795\t0.5230783\t0.6591692\t0.54398483\t0.47688416\t0.396113\t0.6026411\n",
      "0.56431985\t0.55319715\t0.526634\t0.5501336\t0.46666148\t0.5936499\t0.51517695\t0.49278396\t0.45049667\t0.47882527\n",
      "0.5442399\t0.56348866\t0.51948136\t0.5150732\t0.44240257\t0.5680465\t0.55506015\t0.505646\t0.41980726\t0.46269614\n",
      "0.59228134\t0.6321138\t0.53064775\t0.55034703\t0.5571159\t0.65554684\t0.46615437\t0.5831052\t0.47999945\t0.60515904\n",
      "0.51233673\t0.46565437\t0.46707112\t0.45673144\t0.5041768\t0.53939414\t0.46730494\t0.41021803\t0.3774895\t0.52403057\n",
      "0.5447037\t0.57954174\t0.4786473\t0.5424749\t0.52972597\t0.54576087\t0.5189461\t0.4634364\t0.46611598\t0.49125177\n"
     ]
    }
   ],
   "source": [
    "n_items = 10\n",
    "\n",
    "sampled_vacancies = processed_vacancies.sample(n_items)\n",
    "sampled_cvs = processed_cvs.sample(n_items)\n",
    "\n",
    "vacancy_embeddings = model.encode(sampled_vacancies['text'].tolist())\n",
    "cv_embeddings = model.encode(sampled_cvs['text'].tolist())\n",
    "\n",
    "results = cosine_similarity(vacancy_embeddings, cv_embeddings)\n",
    "print('\\n'.join(map(lambda x: '\\t'.join(map(str, x)), results[:10, :10])))"
   ]
  },
  {
   "cell_type": "code",
   "execution_count": 47,
   "metadata": {},
   "outputs": [
    {
     "data": {
      "text/plain": [
       "(array([0, 0, 1, 1, 1, 1, 1, 1, 4, 4, 4, 4, 7, 7, 7]),\n",
       " array([1, 5, 0, 1, 3, 5, 7, 9, 1, 3, 5, 9, 1, 5, 9]))"
      ]
     },
     "execution_count": 47,
     "metadata": {},
     "output_type": "execute_result"
    }
   ],
   "source": [
    "ind = np.where(results > 0.6)\n",
    "ind"
   ]
  },
  {
   "cell_type": "code",
   "execution_count": 49,
   "metadata": {},
   "outputs": [
    {
     "data": {
      "text/plain": [
       "'Менеджер по оптовым продажам . Обязанности: Поиск и привлечение новых клиентов ( Холодные звонки + клиентская база). Продажа сыпучих материалов ( песок , щебень, вывоз грунта и т.д.). Работа с базой клиентов компании и развитие ее. Обработка входящих звонков. Подготовка, заполнение шаблонов договора поставки и перевозки. Контроль дебиторской задолженности Оперативное решение всех возникших вопрос с клиентом, контроль своевременности поставки Сопровождение клиентов Ведение первичной документации по клиенту Выезд на объект на прямые продажи.   Требования: Образование: среднее специальное, высшее.  Опыт работы в продажах нерудных материалах приветствуется. Наличие собственной клиентской базы приветствуется и рассматривается как серьезное преимущество. Уверенное пользование : ПК, MS Office. 1C и орг техникой. Опыт ведение переговоров, на уровне первых лиц Стрессоустойчивость , исполнительность. грамотная речь, желание расти в компании так и саморазвиваться Условия: Возможна дистанционная работа с дома Оклад 40 000 тысяч рублей + KPI +%. Компания на рынке нерудных материалов более 7 лет сформирована своя клиентская база  свой автопарк 9 полуприцепов и 5 бетонно мешалок  свой завод РБУ , формируем новый филиал в Москве,  Есть возможность для карьерного роста. . Москва'"
      ]
     },
     "metadata": {},
     "output_type": "display_data"
    },
    {
     "data": {
      "text/plain": [
       "'Мужчина ,  29 лет , родился 16 ноября 1989 . Директор ИТ  / Начальник отдела ИТ / Технический директор / CTO / CIO . Москва ,  м. Речной вокзал , не готов к переезду , готов к командировкам . полная занятость . полный день . Опыт работы 11 лет 8 месяцев  Директор ИТ / Начальник отдела ИТ / Технический директор / CTO / CIO 250 000 руб. Информационные технологии, интернет, телеком CTO, CIO, Директор по IT Занятость: полная занятость График работы: полный день Опыт работы 11 лет 8 месяцев Июль 2018 — по настоящее время 10 месяцев Мобильные ТелеСистемы (МТС) Москва , www.mts.ru Телекоммуникации, связь ... Мобильная связь Директор центра ИТ Задачи: - Руководство подразделением из 100 человек; - Организация работы по предоставлению всего спектра услуг в сфере ИТ для внутренних и внешних заказчиков (одновременное сопровождение ~4000000 внешних клиентов и 10000 внутренних пользователей); -Сопровождение инфраструктурных и клиентских инцидентов, а так же контроль проведения плановых работ на протяжении всего жизненного цикла услуг; - Формирование оптимального ИТ ландшафта компании; - Диджитализация бизнеса; - Цифровая трансформация бизнеса. Инфраструктура: Все оборудование на сети GPON, xDSL, FTTB, РРЛ/БШД + инфраструктура медной телефонии + инфраструктура ИТ и информационные системы, ЦОД и РЦОД, системы виртуализации. Управление бизнес-процессами (аварии, плановые работы, проблемы): - оптимизация и повышение эффективности существующих бизнес-процессов; - разработка и внедрение изменений процессов по результатам эскалаций или аномалий в отчетности; - автоматизация операций бизнес-процессов (формирование требований к ИТ-доработкам, внедрение новых систем); - согласование и участие в разработке смежных бизнес-процессов.  Управление проектами: - Управление сбоями / отказами (Fault Management); - Управление проблемами (Problem Management); - Управление качеством услуг (Service Quality Management). Участие в проектах: - Система поддержки операций (OSS); - Система управления взаимоотношениями с клиентами (CRM); - Управление инцидентами (Trouble Ticketing); - Billing; - Обслуживание клиентов; - Запуск новых услуг. Результаты и достижения: - Достижение уровня 99,96 % в доступности услуг ИТ, и 99% в соблюдении SLA; - Сокращение Opex на ИТ инфраструктуру за счет применения lean стратегии; - Цифровизация бизнеса и сокращение численности персонала, за счет автоматизации бизнес процессов. Реализованные проекты: - Проведен полный аудит ИТ инфраструктуры и проведена модернизация (сетевая и серверная инфраструктура), составлена стратегия развития компании в области ИТ; - Подготовлен план внедрения единой системы мониторинга; - Произведен технический учет, следствием которого стало сокращение финансовых издержек и высвобождения ресурсов компании; - Оптимизирован процесс Управление сбоями / отказами (Fault Management), снижены затраты и риски бизнеса; - Оптимизирован процесс Управление проблемами (Problem Management), снижены затраты и риски бизнеса; - Оптимизирован процесс Управление качеством услуг (Service Quality Management), снижены затраты и риски бизнеса; - Внедрена система управленческой отчетности и контроля, на основании которой построен процесс KPI; - Внедрены новые системы OSS, CRM, ERP. Февраль 2014 — Июль  2018 4 года 6 месяцев ООО \"ТелеТауэр\" Москва , ttower.ru/ Информационные технологии, системная интеграция, интернет ... Интернет-провайдер Системная интеграция, автоматизации технологических и бизнес-процессов предприятия, ИТ-консалтинг Директор ИТ Задачи: - организация работы по предоставлению всего спектра услуг в сфере ИТ для организаций (одновременное сопровождение ~3000 пользователей, в том числе в различных регионах); - формирование команды и управление сотрудниками компании, планирование работы, контроль эффективности (в подчинении 30 человек); - проведение ИТ аудитов для клиентов; - участие в планировании ИТ бюджета, стратегии развития ИТ совместно с руководством клиентов; - ведение технической документации и разработка регламентов, KPA, KPI, каталога ИТ услуг; - организация технической поддержки пользователей 24*7*365, ПО и оборудования; - проектирование и поддержка ИТ и сетевой инфраструктуры; - управление ИТ проектами; - анализ бизнес-процессов клиентов, формирование предложений по оптимизации и автоматизации бизнес-процессов, внедрение систем на базе 1С, SharePoint; - предоставление услуг хостинга; - администрирование 1С серверов, оптимизация скорости работы 1С; - администрирование Windows Server 2003-2016, служб DNS, DHCP, Active Directory, MS SQL Server; - администрирование Microsoft Exchange 2007-2013, VMware ESXi, hyper-v, администрирование блейд-серверов Dell и сетевого оборудования Cisco Nexus, Catalyst 29xx, 3xxx,4500, 6500 Routers 18xx, 28xx, 36xx, 72xx, ASR, ASA 5500 (X); - взаимодействие с контролирующими и лицензирующими органами (RIPE, Роскомнадзор, Минкомсвязь); - взаимодействие с крупными вендорами: Cisco, HP, DELL, IBM, Microsoft, Ubiquiti Networks, Huawei, D-Link.  Результаты и достижения: - успешная работа по организации ИТ сопровождения внешних клиентов (соблюдены все sla, все клиенты продлили контракты на следующий период); - успешная работа по организации ИТ сопровождения внутренних клиентов (соблюдены все sla, уровень удовлетворенности пользователей 97%).  Реализованные проекты: - Проведен полный аудит ИТ инфраструктуры и проведена модернизация (сетевая и серверная инфраструктура), составлена стратегия развития кампании в области ИТ; - Внедрена система резервирования и резервного копирования ИТ инфраструктуры; - Внедрена система мониторинга ИТ инфраструктуры zabbix; - Произведена оптимизация работы ip телефонии asterisk, avaya, panasonic - организованна единая мультивендорная сеть; - Построена ИТ инфраструктуры новых офисов с нуля и интегрирована с текущей инфраструктурой (открыто 8 офисов в разных регионах); - Получены лицензий на осуществление деятельности в области оказания услуг связи; - Разработана и внедрена политика информационной безопасности;  - Произведена интеграция приобретенных компания в текущую ИТ инфраструктуру (интегрирована сеть медицинских клиник);  - Разработаны регламенты по всем направления ИТ;  - Перевод сети передачи данных на MPLS, а также динамическую маршрутизацию - BGP, OSPF, присоединение удаленных офисов по технологии dmvpn ipsec vpn, openvpn, внедрения шифрования данных; - Построение эффективной работы help desk, внедрение системы OTRS; - Построение эффективной работы ЦОД (Показатель надежности и отказоустойчивости нашего data-центра соответствует требованиям стандарта TIA-942 уровня Tier III); - Проект по модернизации серверной инфраструктуры microsoft windows server 2012, exchange, 1С, tmg, remoteapp, dns, dhcp, терминальные сервера, sql, vmware, hyper-v; - Проект по внедрению медицинской системы PACS, оптимизации медицинской информационной системы «ИНФОКЛИНИКА»;  - Проект по построению облачной инфраструктуры для предоставления клиентам - SaaS, IaaS, аренда виртуальных ресурсов;  - Внедрение системы видеоконференцсвязи Cisco TelePresence (8 геораспределенных офисов);  - Запуск смс авторизации в гостевой WiFi сети компании для соблюдения законодательства;  - Внедрение системы proxy squid - контроль доступа к сети интернет для сотрудников компании;  - Внедрение системы видеонаблюдения и СКУД;  - Запущен проект внедрения ERP, CRM, Электронного документооборота; - Разработано и внедрено более 100 технических решений и проектов для внешних клиентов; - Внедрена сервисная система управления ИТ (ITSM). Ноябрь 2012 — Февраль  2014 1 год 4 месяца РОЛЬФ, группа компаний Москва , www.rolf.ru Автомобильный бизнес ... Легковые, грузовые автомобили, мототехника, автобусы, троллейбусы (продвижение, оптовая торговля) Розничная торговля автомобилями (дилерский центр) Техническое обслуживание, ремонт автомобилей Начальник отдела информационных технологий РОЛЬФ, группа компаний Москва, www.rolf. Задачи: - Управление отделом из 15 человек (включая Аутсорсинг); - Осуществление закупок ИТ оборудования; - Поддержание работоспособности ИТ инфраструктуры 24*7*365(15 офисов по России); - Присоединение новых сегментов к существующей ИТ инфраструктуре; - Оптимизация конфигурации оборудования под конкретные условия эксплуатации; - Мониторинг и отладка, поиск и исправление сбоев в работе ИТ инфраструктуры; - Ведение технической документации, разработка ИТР и регламентов; - Ведение деловой переписки по техническим вопросам; - Настройка и эксплуатация Cisco Secure Access Control System, Cisco Prime LAN Management Solution; - Работа с IP/MPLS сетью, IPSEC, BGP, OSPF, IPSEC, DMVPN GRE, Traffic engineering, Troubleshooting: Cisco Nexus, Catalyst 29xx, 3xxx,4500, 6500 Routers 18xx, 28xx, 36xx, 72xx, ASR, ASA 5500 (X);  - Администрирование Windows Server 2003-2012, служб DNS, DHCP, Active Directory, MS SQL Server; - Взаимодействие с крупными вендорами: Cisco, HP, а также Федеральными провайдерами связи; - Взаимодействие с корпоративными партнерами.  Реализованные мной проекты: - Построение единой беспроводной сети передачи данных во всех офисах компании (Wi-Fi); - Реализация проекта по переводу сетевой инфраструктуры на поддержку компании HP с полным аудитом и оптимизацией сети;  - Замена всего комплекса сетевого и серверного оборудования компании;  - Настройка системы резервирования оборудования;  - Настройка системы резервного копирования;  - Настройка системы мониторинга оборудования;  - Оптимизация работы ip телефонии. Июнь 2010 — Ноябрь  2012 2 года 6 месяцев МегаФон Москва , www.megafon.ru Телекоммуникации, связь ... Мобильная связь Фиксированная связь Заместитель начальника центра управления сетью - Управление отделом из 30 человек - Работа с маршрутизаторами, брасами и коммутаторами cisco, juniper, dlink, zyxel в масштабах большой сети (~ 100 устройств уровня CORE. 80000 уровня AC/AG) 24*7*365; - Проектирование, построение и эксплуатация сети передачи данных; - Оперативное реагирование на аварийные ситуации на сети передачи данных;  - Присоединение новых сегментов к существующей сети передачи данных;  - Ведение технической документации, разработка ИТР и регламентов;  - Ведение деловой переписки по техническим вопросам;  - Тестирование нового сетевого оборудования;  - Администрирование серверного оборудования; - Работа с корпоративными клиентами. Ноябрь 2008 — Июнь  2010 1 год 8 месяцев МегаФон Москва , www.megafon.ru Телекоммуникации, связь ... Мобильная связь Фиксированная связь Заместитель начальника центра технической поддержки - Руководство отделом из 20 человек; - Управление сбоями / отказами (Fault Management); - Управление проблемами (Problem Management); - Управление качеством услуг (Service Quality Management). - Построение эфективной работы центра технической потдержки - Контролько показателей эффективности Июнь 2008 — Ноябрь  2008 6 месяцев Группа компаний АКАДО Москва , www.akado.ru Информационные технологии, системная интеграция, интернет ... Интернет-провайдер Телекоммуникации, связь Оптоволоконная связь СМИ, маркетинг, реклама, BTL, PR, дизайн, продюсирование Распространение телепрограмм, кино (кабельное телевидение) Инженер Прокладка и ремонт абонентских линий связи и настройка пользовательского сетевого оборудования, установка ПО. Сентябрь 2007 — Июнь  2008 10 месяцев ЭР-Телеком Холдинг, ЗАО www.ertelecom.ru Информационные технологии, системная интеграция, интернет ... Интернет-провайдер Телекоммуникации, связь Мобильная связь Инженер Прокладка и ремонт абонентских линий связи и настройка пользовательского сетевого оборудования, установка ПО. Ключевые навыки Теперь резюме открыто всему интернету — изменить можно в настройках видимости. ITIL Cisco CCIE CCNP Администрирование серверов Windows Helpdesk Администрирование сетевого оборудования Руководство коллективом Аутсорсинг Лицензирование Информационные технологии Информационная безопасность Взаимодействие с контрольными органами Управление эффективностью Проектный менеджмент Техническая эксплуатация Virtualization Управление командой Управление проектами Active Directory ITSM Настройка DNS Ведение переговоров Управление персоналом Взаимодействие с разрешительными органами Управление процессами Организаторские навыки Проведение презентаций Бюджетирование Лидерство Возникли неполадки. Попробуйте еще раз. Опыт вождения Имеется собственный автомобиль Права категории B Обо мне Долгое время я работал в крупнейших компаниях на руководящих технических позициях. За это время я приобрел большой опыт во многих направлениях IT.   Профессиональные навыки: Опыт руководства командой из 100+ человек; Опыт управления высоконагруженными, геораспределенными, отказоустойчивыми инфраструктурами; Экспертные знания в области информационных технологий на уровне архитектора; Обширные знания в области серверов, ПО и сетей; Знание ITIL, ITSMк;  Личные качества: лидерство; ответственность; коммуникабельность; пунктуальность. Хобби - футбол, путешествия. Высшее образование 2012 Кликнув на название учебного заведения вы сможете найти кандидатов из этого вуза. Московский городской педагогический университет, Москва факультет менеджмента организации, Финансовый менеджмент Знание языков Русский — Родной Английский — B2 — Средне-продвинутый Повышение квалификации, курсы 2018 Учебный центр ПАО МТС ПАО МТС, Управление проектами Agile и Scrum 2018 Учебный центр ПАО МТС ПАО МТС, Тайм менеджмент, эффективное управление командой 2018 Учебный центр ИТ Эксперт ИТ Эксперт, SOA Курс «Управленческие инструменты организации отношений ИТ с бизнесом на основе ITIL®» 2017 Курс Настройка дополнительных сервисов Windows Server 2012 Учебный Центр «Микротест», (Код: 20412) 2016 Администратор серверов Linux Учебный центр \"СПЕЦИАЛИСТ\" при МГТУ им. Н.Э. Баумана, Помощь в подготовке к сертификации LPIC - 1 2015 Cisco MT_CCNP R&S 2.0+ Учебный Центр «Микротест», Курс Комплексная программа обучения MT_CCNP R&S 2.0+ Routing & Switching 2015 Курс Установка и настройка Windows Server 2012 Учебный Центр «Микротест», (Код: 20410) 2015 Курс Администрирование Windows Server 2012 Учебный Центр «Микротест», (Код: 20411) 2015 Курс Digium® Asterisk 11 – Введение в IP телефонию Учебный Центр «Микротест», (Код: MT-AST11-INT) 2014 Курс по электробезопасности ТехноПрогресс, нормы и правила работы в электроустановках (3 группа) 2014 RIPE NCC LIR Training Course, Ddns security RIPE NCC, RIPE NCC LIR Training Course, Ddns security 2013 Курс ITIL foundation v3 Hewlett packard, (ITIL Foundation) Гражданство, время в пути до работы Гражданство: Россия Разрешение на работу: Россия Желательное время в пути до работы: Не имеет значения  Опыт работы 11 лет 8 месяцев Июль 2018 — по настоящее время 10 месяцев Мобильные ТелеСистемы (МТС) Москва , www.mts.ru Телекоммуникации, связь ... Мобильная связь Директор центра ИТ Задачи: - Руководство подразделением из 100 человек; - Организация работы по предоставлению всего спектра услуг в сфере ИТ для внутренних и внешних заказчиков (одновременное сопровождение ~4000000 внешних клиентов и 10000 внутренних пользователей); -Сопровождение инфраструктурных и клиентских инцидентов, а так же контроль проведения плановых работ на протяжении всего жизненного цикла услуг; - Формирование оптимального ИТ ландшафта компании; - Диджитализация бизнеса; - Цифровая трансформация бизнеса. Инфраструктура: Все оборудование на сети GPON, xDSL, FTTB, РРЛ/БШД + инфраструктура медной телефонии + инфраструктура ИТ и информационные системы, ЦОД и РЦОД, системы виртуализации. Управление бизнес-процессами (аварии, плановые работы, проблемы): - оптимизация и повышение эффективности существующих бизнес-процессов; - разработка и внедрение изменений процессов по результатам эскалаций или аномалий в отчетности; - автоматизация операций бизнес-процессов (формирование требований к ИТ-доработкам, внедрение новых систем); - согласование и участие в разработке смежных бизнес-процессов.  Управление проектами: - Управление сбоями / отказами (Fault Management); - Управление проблемами (Problem Management); - Управление качеством услуг (Service Quality Management). Участие в проектах: - Система поддержки операций (OSS); - Система управления взаимоотношениями с клиентами (CRM); - Управление инцидентами (Trouble Ticketing); - Billing; - Обслуживание клиентов; - Запуск новых услуг. Результаты и достижения: - Достижение уровня 99,96 % в доступности услуг ИТ, и 99% в соблюдении SLA; - Сокращение Opex на ИТ инфраструктуру за счет применения lean стратегии; - Цифровизация бизнеса и сокращение численности персонала, за счет автоматизации бизнес процессов. Реализованные проекты: - Проведен полный аудит ИТ инфраструктуры и проведена модернизация (сетевая и серверная инфраструктура), составлена стратегия развития компании в области ИТ; - Подготовлен план внедрения единой системы мониторинга; - Произведен технический учет, следствием которого стало сокращение финансовых издержек и высвобождения ресурсов компании; - Оптимизирован процесс Управление сбоями / отказами (Fault Management), снижены затраты и риски бизнеса; - Оптимизирован процесс Управление проблемами (Problem Management), снижены затраты и риски бизнеса; - Оптимизирован процесс Управление качеством услуг (Service Quality Management), снижены затраты и риски бизнеса; - Внедрена система управленческой отчетности и контроля, на основании которой построен процесс KPI; - Внедрены новые системы OSS, CRM, ERP. Февраль 2014 — Июль  2018 4 года 6 месяцев ООО \"ТелеТауэр\" Москва , ttower.ru/ Информационные технологии, системная интеграция, интернет ... Интернет-провайдер Системная интеграция, автоматизации технологических и бизнес-процессов предприятия, ИТ-консалтинг Директор ИТ Задачи: - организация работы по предоставлению всего спектра услуг в сфере ИТ для организаций (одновременное сопровождение ~3000 пользователей, в том числе в различных регионах); - формирование команды и управление сотрудниками компании, планирование работы, контроль эффективности (в подчинении 30 человек); - проведение ИТ аудитов для клиентов; - участие в планировании ИТ бюджета, стратегии развития ИТ совместно с руководством клиентов; - ведение технической документации и разработка регламентов, KPA, KPI, каталога ИТ услуг; - организация технической поддержки пользователей 24*7*365, ПО и оборудования; - проектирование и поддержка ИТ и сетевой инфраструктуры; - управление ИТ проектами; - анализ бизнес-процессов клиентов, формирование предложений по оптимизации и автоматизации бизнес-процессов, внедрение систем на базе 1С, SharePoint; - предоставление услуг хостинга; - администрирование 1С серверов, оптимизация скорости работы 1С; - администрирование Windows Server 2003-2016, служб DNS, DHCP, Active Directory, MS SQL Server; - администрирование Microsoft Exchange 2007-2013, VMware ESXi, hyper-v, администрирование блейд-серверов Dell и сетевого оборудования Cisco Nexus, Catalyst 29xx, 3xxx,4500, 6500 Routers 18xx, 28xx, 36xx, 72xx, ASR, ASA 5500 (X); - взаимодействие с контролирующими и лицензирующими органами (RIPE, Роскомнадзор, Минкомсвязь); - взаимодействие с крупными вендорами: Cisco, HP, DELL, IBM, Microsoft, Ubiquiti Networks, Huawei, D-Link.  Результаты и достижения: - успешная работа по организации ИТ сопровождения внешних клиентов (соблюдены все sla, все клиенты продлили контракты на следующий период); - успешная работа по организации ИТ сопровождения внутренних клиентов (соблюдены все sla, уровень удовлетворенности пользователей 97%).  Реализованные проекты: - Проведен полный аудит ИТ инфраструктуры и проведена модернизация (сетевая и серверная инфраструктура), составлена стратегия развития кампании в области ИТ; - Внедрена система резервирования и резервного копирования ИТ инфраструктуры; - Внедрена система мониторинга ИТ инфраструктуры zabbix; - Произведена оптимизация работы ip телефонии asterisk, avaya, panasonic - организованна единая мультивендорная сеть; - Построена ИТ инфраструктуры новых офисов с нуля и интегрирована с текущей инфраструктурой (открыто 8 офисов в разных регионах); - Получены лицензий на осуществление деятельности в области оказания услуг связи; - Разработана и внедрена политика информационной безопасности;  - Произведена интеграция приобретенных компания в текущую ИТ инфраструктуру (интегрирована сеть медицинских клиник);  - Разработаны регламенты по всем направления ИТ;  - Перевод сети передачи данных на MPLS, а также динамическую маршрутизацию - BGP, OSPF, присоединение удаленных офисов по технологии dmvpn ipsec vpn, openvpn, внедрения шифрования данных; - Построение эффективной работы help desk, внедрение системы OTRS; - Построение эффективной работы ЦОД (Показатель надежности и отказоустойчивости нашего data-центра соответствует требованиям стандарта TIA-942 уровня Tier III); - Проект по модернизации серверной инфраструктуры microsoft windows server 2012, exchange, 1С, tmg, remoteapp, dns, dhcp, терминальные сервера, sql, vmware, hyper-v; - Проект по внедрению медицинской системы PACS, оптимизации медицинской информационной системы «ИНФОКЛИНИКА»;  - Проект по построению облачной инфраструктуры для предоставления клиентам - SaaS, IaaS, аренда виртуальных ресурсов;  - Внедрение системы видеоконференцсвязи Cisco TelePresence (8 геораспределенных офисов);  - Запуск смс авторизации в гостевой WiFi сети компании для соблюдения законодательства;  - Внедрение системы proxy squid - контроль доступа к сети интернет для сотрудников компании;  - Внедрение системы видеонаблюдения и СКУД;  - Запущен проект внедрения ERP, CRM, Электронного документооборота; - Разработано и внедрено более 100 технических решений и проектов для внешних клиентов; - Внедрена сервисная система управления ИТ (ITSM). Ноябрь 2012 — Февраль  2014 1 год 4 месяца РОЛЬФ, группа компаний Москва , www.rolf.ru Автомобильный бизнес ... Легковые, грузовые автомобили, мототехника, автобусы, троллейбусы (продвижение, оптовая торговля) Розничная торговля автомобилями (дилерский центр) Техническое обслуживание, ремонт автомобилей Начальник отдела информационных технологий РОЛЬФ, группа компаний Москва, www.rolf. Задачи: - Управление отделом из 15 человек (включая Аутсорсинг); - Осуществление закупок ИТ оборудования; - Поддержание работоспособности ИТ инфраструктуры 24*7*365(15 офисов по России); - Присоединение новых сегментов к существующей ИТ инфраструктуре; - Оптимизация конфигурации оборудования под конкретные условия эксплуатации; - Мониторинг и отладка, поиск и исправление сбоев в работе ИТ инфраструктуры; - Ведение технической документации, разработка ИТР и регламентов; - Ведение деловой переписки по техническим вопросам; - Настройка и эксплуатация Cisco Secure Access Control System, Cisco Prime LAN Management Solution; - Работа с IP/MPLS сетью, IPSEC, BGP, OSPF, IPSEC, DMVPN GRE, Traffic engineering, Troubleshooting: Cisco Nexus, Catalyst 29xx, 3xxx,4500, 6500 Routers 18xx, 28xx, 36xx, 72xx, ASR, ASA 5500 (X);  - Администрирование Windows Server 2003-2012, служб DNS, DHCP, Active Directory, MS SQL Server; - Взаимодействие с крупными вендорами: Cisco, HP, а также Федеральными провайдерами связи; - Взаимодействие с корпоративными партнерами.  Реализованные мной проекты: - Построение единой беспроводной сети передачи данных во всех офисах компании (Wi-Fi); - Реализация проекта по переводу сетевой инфраструктуры на поддержку компании HP с полным аудитом и оптимизацией сети;  - Замена всего комплекса сетевого и серверного оборудования компании;  - Настройка системы резервирования оборудования;  - Настройка системы резервного копирования;  - Настройка системы мониторинга оборудования;  - Оптимизация работы ip телефонии. Июнь 2010 — Ноябрь  2012 2 года 6 месяцев МегаФон Москва , www.megafon.ru Телекоммуникации, связь ... Мобильная связь Фиксированная связь Заместитель начальника центра управления сетью - Управление отделом из 30 человек - Работа с маршрутизаторами, брасами и коммутаторами cisco, juniper, dlink, zyxel в масштабах большой сети (~ 100 устройств уровня CORE. 80000 уровня AC/AG) 24*7*365; - Проектирование, построение и эксплуатация сети передачи данных; - Оперативное реагирование на аварийные ситуации на сети передачи данных;  - Присоединение новых сегментов к существующей сети передачи данных;  - Ведение технической документации, разработка ИТР и регламентов;  - Ведение деловой переписки по техническим вопросам;  - Тестирование нового сетевого оборудования;  - Администрирование серверного оборудования; - Работа с корпоративными клиентами. Ноябрь 2008 — Июнь  2010 1 год 8 месяцев МегаФон Москва , www.megafon.ru Телекоммуникации, связь ... Мобильная связь Фиксированная связь Заместитель начальника центра технической поддержки - Руководство отделом из 20 человек; - Управление сбоями / отказами (Fault Management); - Управление проблемами (Problem Management); - Управление качеством услуг (Service Quality Management). - Построение эфективной работы центра технической потдержки - Контролько показателей эффективности Июнь 2008 — Ноябрь  2008 6 месяцев Группа компаний АКАДО Москва , www.akado.ru Информационные технологии, системная интеграция, интернет ... Интернет-провайдер Телекоммуникации, связь Оптоволоконная связь СМИ, маркетинг, реклама, BTL, PR, дизайн, продюсирование Распространение телепрограмм, кино (кабельное телевидение) Инженер Прокладка и ремонт абонентских линий связи и настройка пользовательского сетевого оборудования, установка ПО. Сентябрь 2007 — Июнь  2008 10 месяцев ЭР-Телеком Холдинг, ЗАО www.ertelecom.ru Информационные технологии, системная интеграция, интернет ... Интернет-провайдер Телекоммуникации, связь Мобильная связь Инженер Прокладка и ремонт абонентских линий связи и настройка пользовательского сетевого оборудования, установка ПО.  Июль 2018 — по настоящее время 10 месяцев Мобильные ТелеСистемы (МТС) Москва , www.mts.ru Телекоммуникации, связь ... Мобильная связь Директор центра ИТ Задачи: - Руководство подразделением из 100 человек; - Организация работы по предоставлению всего спектра услуг в сфере ИТ для внутренних и внешних заказчиков (одновременное сопровождение ~4000000 внешних клиентов и 10000 внутренних пользователей); -Сопровождение инфраструктурных и клиентских инцидентов, а так же контроль проведения плановых работ на протяжении всего жизненного цикла услуг; - Формирование оптимального ИТ ландшафта компании; - Диджитализация бизнеса; - Цифровая трансформация бизнеса. Инфраструктура: Все оборудование на сети GPON, xDSL, FTTB, РРЛ/БШД + инфраструктура медной телефонии + инфраструктура ИТ и информационные системы, ЦОД и РЦОД, системы виртуализации. Управление бизнес-процессами (аварии, плановые работы, проблемы): - оптимизация и повышение эффективности существующих бизнес-процессов; - разработка и внедрение изменений процессов по результатам эскалаций или аномалий в отчетности; - автоматизация операций бизнес-процессов (формирование требований к ИТ-доработкам, внедрение новых систем); - согласование и участие в разработке смежных бизнес-процессов.  Управление проектами: - Управление сбоями / отказами (Fault Management); - Управление проблемами (Problem Management); - Управление качеством услуг (Service Quality Management). Участие в проектах: - Система поддержки операций (OSS); - Система управления взаимоотношениями с клиентами (CRM); - Управление инцидентами (Trouble Ticketing); - Billing; - Обслуживание клиентов; - Запуск новых услуг. Результаты и достижения: - Достижение уровня 99,96 % в доступности услуг ИТ, и 99% в соблюдении SLA; - Сокращение Opex на ИТ инфраструктуру за счет применения lean стратегии; - Цифровизация бизнеса и сокращение численности персонала, за счет автоматизации бизнес процессов. Реализованные проекты: - Проведен полный аудит ИТ инфраструктуры и проведена модернизация (сетевая и серверная инфраструктура), составлена стратегия развития компании в области ИТ; - Подготовлен план внедрения единой системы мониторинга; - Произведен технический учет, следствием которого стало сокращение финансовых издержек и высвобождения ресурсов компании; - Оптимизирован процесс Управление сбоями / отказами (Fault Management), снижены затраты и риски бизнеса; - Оптимизирован процесс Управление проблемами (Problem Management), снижены затраты и риски бизнеса; - Оптимизирован процесс Управление качеством услуг (Service Quality Management), снижены затраты и риски бизнеса; - Внедрена система управленческой отчетности и контроля, на основании которой построен процесс KPI; - Внедрены новые системы OSS, CRM, ERP.  Февраль 2014 — Июль  2018 4 года 6 месяцев ООО \"ТелеТауэр\" Москва , ttower.ru/ Информационные технологии, системная интеграция, интернет ... Интернет-провайдер Системная интеграция, автоматизации технологических и бизнес-процессов предприятия, ИТ-консалтинг Директор ИТ Задачи: - организация работы по предоставлению всего спектра услуг в сфере ИТ для организаций (одновременное сопровождение ~3000 пользователей, в том числе в различных регионах); - формирование команды и управление сотрудниками компании, планирование работы, контроль эффективности (в подчинении 30 человек); - проведение ИТ аудитов для клиентов; - участие в планировании ИТ бюджета, стратегии развития ИТ совместно с руководством клиентов; - ведение технической документации и разработка регламентов, KPA, KPI, каталога ИТ услуг; - организация технической поддержки пользователей 24*7*365, ПО и оборудования; - проектирование и поддержка ИТ и сетевой инфраструктуры; - управление ИТ проектами; - анализ бизнес-процессов клиентов, формирование предложений по оптимизации и автоматизации бизнес-процессов, внедрение систем на базе 1С, SharePoint; - предоставление услуг хостинга; - администрирование 1С серверов, оптимизация скорости работы 1С; - администрирование Windows Server 2003-2016, служб DNS, DHCP, Active Directory, MS SQL Server; - администрирование Microsoft Exchange 2007-2013, VMware ESXi, hyper-v, администрирование блейд-серверов Dell и сетевого оборудования Cisco Nexus, Catalyst 29xx, 3xxx,4500, 6500 Routers 18xx, 28xx, 36xx, 72xx, ASR, ASA 5500 (X); - взаимодействие с контролирующими и лицензирующими органами (RIPE, Роскомнадзор, Минкомсвязь); - взаимодействие с крупными вендорами: Cisco, HP, DELL, IBM, Microsoft, Ubiquiti Networks, Huawei, D-Link.  Результаты и достижения: - успешная работа по организации ИТ сопровождения внешних клиентов (соблюдены все sla, все клиенты продлили контракты на следующий период); - успешная работа по организации ИТ сопровождения внутренних клиентов (соблюдены все sla, уровень удовлетворенности пользователей 97%).  Реализованные проекты: - Проведен полный аудит ИТ инфраструктуры и проведена модернизация (сетевая и серверная инфраструктура), составлена стратегия развития кампании в области ИТ; - Внедрена система резервирования и резервного копирования ИТ инфраструктуры; - Внедрена система мониторинга ИТ инфраструктуры zabbix; - Произведена оптимизация работы ip телефонии asterisk, avaya, panasonic - организованна единая мультивендорная сеть; - Построена ИТ инфраструктуры новых офисов с нуля и интегрирована с текущей инфраструктурой (открыто 8 офисов в разных регионах); - Получены лицензий на осуществление деятельности в области оказания услуг связи; - Разработана и внедрена политика информационной безопасности;  - Произведена интеграция приобретенных компания в текущую ИТ инфраструктуру (интегрирована сеть медицинских клиник);  - Разработаны регламенты по всем направления ИТ;  - Перевод сети передачи данных на MPLS, а также динамическую маршрутизацию - BGP, OSPF, присоединение удаленных офисов по технологии dmvpn ipsec vpn, openvpn, внедрения шифрования данных; - Построение эффективной работы help desk, внедрение системы OTRS; - Построение эффективной работы ЦОД (Показатель надежности и отказоустойчивости нашего data-центра соответствует требованиям стандарта TIA-942 уровня Tier III); - Проект по модернизации серверной инфраструктуры microsoft windows server 2012, exchange, 1С, tmg, remoteapp, dns, dhcp, терминальные сервера, sql, vmware, hyper-v; - Проект по внедрению медицинской системы PACS, оптимизации медицинской информационной системы «ИНФОКЛИНИКА»;  - Проект по построению облачной инфраструктуры для предоставления клиентам - SaaS, IaaS, аренда виртуальных ресурсов;  - Внедрение системы видеоконференцсвязи Cisco TelePresence (8 геораспределенных офисов);  - Запуск смс авторизации в гостевой WiFi сети компании для соблюдения законодательства;  - Внедрение системы proxy squid - контроль доступа к сети интернет для сотрудников компании;  - Внедрение системы видеонаблюдения и СКУД;  - Запущен проект внедрения ERP, CRM, Электронного документооборота; - Разработано и внедрено более 100 технических решений и проектов для внешних клиентов; - Внедрена сервисная система управления ИТ (ITSM).  Ноябрь 2012 — Февраль  2014 1 год 4 месяца РОЛЬФ, группа компаний Москва , www.rolf.ru Автомобильный бизнес ... Легковые, грузовые автомобили, мототехника, автобусы, троллейбусы (продвижение, оптовая торговля) Розничная торговля автомобилями (дилерский центр) Техническое обслуживание, ремонт автомобилей Начальник отдела информационных технологий РОЛЬФ, группа компаний Москва, www.rolf. Задачи: - Управление . Мобильные ТелеСистемы (МТС) . Директор центра ИТ . Высшее образование 2012  Московский городской педагогический университет, Москва факультет менеджмента организации, Финансовый менеджмент'"
      ]
     },
     "metadata": {},
     "output_type": "display_data"
    },
    {
     "data": {
      "text/plain": [
       "0.6010257"
      ]
     },
     "metadata": {},
     "output_type": "display_data"
    }
   ],
   "source": [
    "text1 = sampled_vacancies['text'].iloc[0]\n",
    "text2 = sampled_cvs['text'].iloc[1]\n",
    "\n",
    "embs1 = model.encode(text1)\n",
    "embs2 = model.encode(text2)\n",
    "\n",
    "metric = cosine_similarity([embs1], [embs2])[0][0]\n",
    "display(text1, text2, metric)"
   ]
  },
  {
   "cell_type": "code",
   "execution_count": null,
   "metadata": {},
   "outputs": [],
   "source": []
  }
 ],
 "metadata": {
  "kernelspec": {
   "display_name": "venv",
   "language": "python",
   "name": "python3"
  },
  "language_info": {
   "codemirror_mode": {
    "name": "ipython",
    "version": 3
   },
   "file_extension": ".py",
   "mimetype": "text/x-python",
   "name": "python",
   "nbconvert_exporter": "python",
   "pygments_lexer": "ipython3",
   "version": "3.11.6"
  }
 },
 "nbformat": 4,
 "nbformat_minor": 2
}
