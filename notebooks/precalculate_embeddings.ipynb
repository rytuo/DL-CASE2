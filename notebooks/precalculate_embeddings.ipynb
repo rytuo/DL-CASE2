{
 "cells": [
  {
   "cell_type": "markdown",
   "metadata": {},
   "source": [
    "# Precalculate embeddings for using in search service"
   ]
  },
  {
   "cell_type": "code",
   "execution_count": 1,
   "metadata": {},
   "outputs": [
    {
     "name": "stdout",
     "output_type": "stream",
     "text": [
      "Requirement already satisfied: pandas in /Users/alv.popov/prj/DL-CASE2/venv/lib/python3.11/site-packages (2.1.4)\n",
      "Requirement already satisfied: numpy<2,>=1.23.2 in /Users/alv.popov/prj/DL-CASE2/venv/lib/python3.11/site-packages (from pandas) (1.26.2)\n",
      "Requirement already satisfied: python-dateutil>=2.8.2 in /Users/alv.popov/prj/DL-CASE2/venv/lib/python3.11/site-packages (from pandas) (2.8.2)\n",
      "Requirement already satisfied: pytz>=2020.1 in /Users/alv.popov/prj/DL-CASE2/venv/lib/python3.11/site-packages (from pandas) (2023.3.post1)\n",
      "Requirement already satisfied: tzdata>=2022.1 in /Users/alv.popov/prj/DL-CASE2/venv/lib/python3.11/site-packages (from pandas) (2023.3)\n",
      "Requirement already satisfied: six>=1.5 in /Users/alv.popov/prj/DL-CASE2/venv/lib/python3.11/site-packages (from python-dateutil>=2.8.2->pandas) (1.16.0)\n",
      "Requirement already satisfied: sentence-transformers in /Users/alv.popov/prj/DL-CASE2/venv/lib/python3.11/site-packages (2.2.2)\n",
      "Requirement already satisfied: transformers<5.0.0,>=4.6.0 in /Users/alv.popov/prj/DL-CASE2/venv/lib/python3.11/site-packages (from sentence-transformers) (4.36.1)\n",
      "Requirement already satisfied: tqdm in /Users/alv.popov/prj/DL-CASE2/venv/lib/python3.11/site-packages (from sentence-transformers) (4.66.1)\n",
      "Requirement already satisfied: torch>=1.6.0 in /Users/alv.popov/prj/DL-CASE2/venv/lib/python3.11/site-packages (from sentence-transformers) (2.1.2)\n",
      "Requirement already satisfied: torchvision in /Users/alv.popov/prj/DL-CASE2/venv/lib/python3.11/site-packages (from sentence-transformers) (0.16.2)\n",
      "Requirement already satisfied: numpy in /Users/alv.popov/prj/DL-CASE2/venv/lib/python3.11/site-packages (from sentence-transformers) (1.26.2)\n",
      "Requirement already satisfied: scikit-learn in /Users/alv.popov/prj/DL-CASE2/venv/lib/python3.11/site-packages (from sentence-transformers) (1.3.2)\n",
      "Requirement already satisfied: scipy in /Users/alv.popov/prj/DL-CASE2/venv/lib/python3.11/site-packages (from sentence-transformers) (1.11.4)\n",
      "Requirement already satisfied: nltk in /Users/alv.popov/prj/DL-CASE2/venv/lib/python3.11/site-packages (from sentence-transformers) (3.8.1)\n",
      "Requirement already satisfied: sentencepiece in /Users/alv.popov/prj/DL-CASE2/venv/lib/python3.11/site-packages (from sentence-transformers) (0.1.99)\n",
      "Requirement already satisfied: huggingface-hub>=0.4.0 in /Users/alv.popov/prj/DL-CASE2/venv/lib/python3.11/site-packages (from sentence-transformers) (0.19.4)\n",
      "Requirement already satisfied: filelock in /Users/alv.popov/prj/DL-CASE2/venv/lib/python3.11/site-packages (from huggingface-hub>=0.4.0->sentence-transformers) (3.13.1)\n",
      "Requirement already satisfied: fsspec>=2023.5.0 in /Users/alv.popov/prj/DL-CASE2/venv/lib/python3.11/site-packages (from huggingface-hub>=0.4.0->sentence-transformers) (2023.12.2)\n",
      "Requirement already satisfied: requests in /Users/alv.popov/prj/DL-CASE2/venv/lib/python3.11/site-packages (from huggingface-hub>=0.4.0->sentence-transformers) (2.31.0)\n",
      "Requirement already satisfied: pyyaml>=5.1 in /Users/alv.popov/prj/DL-CASE2/venv/lib/python3.11/site-packages (from huggingface-hub>=0.4.0->sentence-transformers) (6.0.1)\n",
      "Requirement already satisfied: typing-extensions>=3.7.4.3 in /Users/alv.popov/prj/DL-CASE2/venv/lib/python3.11/site-packages (from huggingface-hub>=0.4.0->sentence-transformers) (4.9.0)\n",
      "Requirement already satisfied: packaging>=20.9 in /Users/alv.popov/prj/DL-CASE2/venv/lib/python3.11/site-packages (from huggingface-hub>=0.4.0->sentence-transformers) (23.2)\n",
      "Requirement already satisfied: sympy in /Users/alv.popov/prj/DL-CASE2/venv/lib/python3.11/site-packages (from torch>=1.6.0->sentence-transformers) (1.12)\n",
      "Requirement already satisfied: networkx in /Users/alv.popov/prj/DL-CASE2/venv/lib/python3.11/site-packages (from torch>=1.6.0->sentence-transformers) (3.2.1)\n",
      "Requirement already satisfied: jinja2 in /Users/alv.popov/prj/DL-CASE2/venv/lib/python3.11/site-packages (from torch>=1.6.0->sentence-transformers) (3.1.2)\n",
      "Requirement already satisfied: regex!=2019.12.17 in /Users/alv.popov/prj/DL-CASE2/venv/lib/python3.11/site-packages (from transformers<5.0.0,>=4.6.0->sentence-transformers) (2023.10.3)\n",
      "Requirement already satisfied: tokenizers<0.19,>=0.14 in /Users/alv.popov/prj/DL-CASE2/venv/lib/python3.11/site-packages (from transformers<5.0.0,>=4.6.0->sentence-transformers) (0.15.0)\n",
      "Requirement already satisfied: safetensors>=0.3.1 in /Users/alv.popov/prj/DL-CASE2/venv/lib/python3.11/site-packages (from transformers<5.0.0,>=4.6.0->sentence-transformers) (0.4.1)\n",
      "Requirement already satisfied: click in /Users/alv.popov/prj/DL-CASE2/venv/lib/python3.11/site-packages (from nltk->sentence-transformers) (8.1.7)\n",
      "Requirement already satisfied: joblib in /Users/alv.popov/prj/DL-CASE2/venv/lib/python3.11/site-packages (from nltk->sentence-transformers) (1.3.2)\n",
      "Requirement already satisfied: threadpoolctl>=2.0.0 in /Users/alv.popov/prj/DL-CASE2/venv/lib/python3.11/site-packages (from scikit-learn->sentence-transformers) (3.2.0)\n",
      "Requirement already satisfied: pillow!=8.3.*,>=5.3.0 in /Users/alv.popov/prj/DL-CASE2/venv/lib/python3.11/site-packages (from torchvision->sentence-transformers) (10.1.0)\n",
      "Requirement already satisfied: MarkupSafe>=2.0 in /Users/alv.popov/prj/DL-CASE2/venv/lib/python3.11/site-packages (from jinja2->torch>=1.6.0->sentence-transformers) (2.1.3)\n",
      "Requirement already satisfied: charset-normalizer<4,>=2 in /Users/alv.popov/prj/DL-CASE2/venv/lib/python3.11/site-packages (from requests->huggingface-hub>=0.4.0->sentence-transformers) (3.3.2)\n",
      "Requirement already satisfied: idna<4,>=2.5 in /Users/alv.popov/prj/DL-CASE2/venv/lib/python3.11/site-packages (from requests->huggingface-hub>=0.4.0->sentence-transformers) (3.6)\n",
      "Requirement already satisfied: urllib3<3,>=1.21.1 in /Users/alv.popov/prj/DL-CASE2/venv/lib/python3.11/site-packages (from requests->huggingface-hub>=0.4.0->sentence-transformers) (2.1.0)\n",
      "Requirement already satisfied: certifi>=2017.4.17 in /Users/alv.popov/prj/DL-CASE2/venv/lib/python3.11/site-packages (from requests->huggingface-hub>=0.4.0->sentence-transformers) (2023.11.17)\n",
      "Requirement already satisfied: mpmath>=0.19 in /Users/alv.popov/prj/DL-CASE2/venv/lib/python3.11/site-packages (from sympy->torch>=1.6.0->sentence-transformers) (1.3.0)\n",
      "Requirement already satisfied: tqdm in /Users/alv.popov/prj/DL-CASE2/venv/lib/python3.11/site-packages (4.66.1)\n",
      "Requirement already satisfied: numpy in /Users/alv.popov/prj/DL-CASE2/venv/lib/python3.11/site-packages (1.26.2)\n"
     ]
    }
   ],
   "source": [
    "!pip install pandas > None\n",
    "!pip install sentence-transformers > None\n",
    "!pip install tqdm > None\n",
    "!pip install numpy > None"
   ]
  },
  {
   "cell_type": "code",
   "execution_count": 2,
   "metadata": {},
   "outputs": [],
   "source": [
    "import os\n",
    "import os.path as path\n",
    "import pandas as pd\n",
    "from sentence_transformers import SentenceTransformer\n",
    "import numpy as np"
   ]
  },
  {
   "cell_type": "code",
   "execution_count": 3,
   "metadata": {},
   "outputs": [
    {
     "data": {
      "text/plain": [
       "'/Users/alv.popov/prj/DL-CASE2/data/processed/cvs.csv'"
      ]
     },
     "execution_count": 3,
     "metadata": {},
     "output_type": "execute_result"
    }
   ],
   "source": [
    "root_dir = path.dirname(path.abspath(os.getcwd()))\n",
    "data_dir = path.join(root_dir, 'data')\n",
    "processed_data_dir = path.join(data_dir, 'processed')\n",
    "embeddings_dir = path.join(data_dir, 'embeddings')\n",
    "\n",
    "os.makedirs(embeddings_dir, exist_ok=True)\n",
    "\n",
    "processed_vacancies_path = path.join(processed_data_dir, 'vacancies.csv')\n",
    "processed_cvs_path = path.join(processed_data_dir, 'cvs.csv')\n",
    "\n",
    "vacancies_embeddings_path = path.join(embeddings_dir, 'vacancies.csv')\n",
    "cvs_embeddings_path = path.join(embeddings_dir, 'cvs.csv')\n",
    "\n",
    "processed_cvs_path"
   ]
  },
  {
   "cell_type": "code",
   "execution_count": 4,
   "metadata": {},
   "outputs": [
    {
     "data": {
      "text/html": [
       "<div>\n",
       "<style scoped>\n",
       "    .dataframe tbody tr th:only-of-type {\n",
       "        vertical-align: middle;\n",
       "    }\n",
       "\n",
       "    .dataframe tbody tr th {\n",
       "        vertical-align: top;\n",
       "    }\n",
       "\n",
       "    .dataframe thead th {\n",
       "        text-align: right;\n",
       "    }\n",
       "</style>\n",
       "<table border=\"1\" class=\"dataframe\">\n",
       "  <thead>\n",
       "    <tr style=\"text-align: right;\">\n",
       "      <th></th>\n",
       "      <th>text</th>\n",
       "    </tr>\n",
       "  </thead>\n",
       "  <tbody>\n",
       "    <tr>\n",
       "      <th>0</th>\n",
       "      <td>Project R’n’D / Технолог R’n’D . MF Kitchen — ...</td>\n",
       "    </tr>\n",
       "    <tr>\n",
       "      <th>1</th>\n",
       "      <td>Продавец-кассир (Москва, Богданова, 16) . Обяз...</td>\n",
       "    </tr>\n",
       "    <tr>\n",
       "      <th>2</th>\n",
       "      <td>Продавец-кассир (Москва, Новогиреевская, 11/36...</td>\n",
       "    </tr>\n",
       "    <tr>\n",
       "      <th>3</th>\n",
       "      <td>Product owner бизнес–стрима \"Аналитика и Отчет...</td>\n",
       "    </tr>\n",
       "    <tr>\n",
       "      <th>4</th>\n",
       "      <td>Business Development Director (CTO) . Студия О...</td>\n",
       "    </tr>\n",
       "    <tr>\n",
       "      <th>...</th>\n",
       "      <td>...</td>\n",
       "    </tr>\n",
       "    <tr>\n",
       "      <th>96220</th>\n",
       "      <td>Оператор 1C .   ТД «ЛФБ» - семейная компания, ...</td>\n",
       "    </tr>\n",
       "    <tr>\n",
       "      <th>96221</th>\n",
       "      <td>Стажер Управления финансирования торговли . КР...</td>\n",
       "    </tr>\n",
       "    <tr>\n",
       "      <th>96222</th>\n",
       "      <td>Преподаватель математики/информатики . Обязанн...</td>\n",
       "    </tr>\n",
       "    <tr>\n",
       "      <th>96223</th>\n",
       "      <td>Программист С++ / Linux . Требования:  Знание ...</td>\n",
       "    </tr>\n",
       "    <tr>\n",
       "      <th>96224</th>\n",
       "      <td>Бухгалтер . В динамично развивающуюся компанию...</td>\n",
       "    </tr>\n",
       "  </tbody>\n",
       "</table>\n",
       "<p>96225 rows × 1 columns</p>\n",
       "</div>"
      ],
      "text/plain": [
       "                                                    text\n",
       "0      Project R’n’D / Технолог R’n’D . MF Kitchen — ...\n",
       "1      Продавец-кассир (Москва, Богданова, 16) . Обяз...\n",
       "2      Продавец-кассир (Москва, Новогиреевская, 11/36...\n",
       "3      Product owner бизнес–стрима \"Аналитика и Отчет...\n",
       "4      Business Development Director (CTO) . Студия О...\n",
       "...                                                  ...\n",
       "96220  Оператор 1C .   ТД «ЛФБ» - семейная компания, ...\n",
       "96221  Стажер Управления финансирования торговли . КР...\n",
       "96222  Преподаватель математики/информатики . Обязанн...\n",
       "96223  Программист С++ / Linux . Требования:  Знание ...\n",
       "96224  Бухгалтер . В динамично развивающуюся компанию...\n",
       "\n",
       "[96225 rows x 1 columns]"
      ]
     },
     "execution_count": 4,
     "metadata": {},
     "output_type": "execute_result"
    }
   ],
   "source": [
    "processed_vacancies = pd.read_csv(processed_vacancies_path)\n",
    "processed_vacancies"
   ]
  },
  {
   "cell_type": "code",
   "execution_count": 5,
   "metadata": {},
   "outputs": [
    {
     "data": {
      "text/html": [
       "<div>\n",
       "<style scoped>\n",
       "    .dataframe tbody tr th:only-of-type {\n",
       "        vertical-align: middle;\n",
       "    }\n",
       "\n",
       "    .dataframe tbody tr th {\n",
       "        vertical-align: top;\n",
       "    }\n",
       "\n",
       "    .dataframe thead th {\n",
       "        text-align: right;\n",
       "    }\n",
       "</style>\n",
       "<table border=\"1\" class=\"dataframe\">\n",
       "  <thead>\n",
       "    <tr style=\"text-align: right;\">\n",
       "      <th></th>\n",
       "      <th>text</th>\n",
       "    </tr>\n",
       "  </thead>\n",
       "  <tbody>\n",
       "    <tr>\n",
       "      <th>0</th>\n",
       "      <td>Мужчина ,  39 лет , родился 27 ноября 1979 . С...</td>\n",
       "    </tr>\n",
       "    <tr>\n",
       "      <th>1</th>\n",
       "      <td>Мужчина ,  60 лет , родился 20 марта 1959 . Те...</td>\n",
       "    </tr>\n",
       "    <tr>\n",
       "      <th>2</th>\n",
       "      <td>Женщина ,  36 лет , родилась 12 августа 1982 ....</td>\n",
       "    </tr>\n",
       "    <tr>\n",
       "      <th>3</th>\n",
       "      <td>Мужчина ,  38 лет , родился 25 июня 1980 . Веб...</td>\n",
       "    </tr>\n",
       "    <tr>\n",
       "      <th>4</th>\n",
       "      <td>Женщина ,  26 лет , родилась 3 марта 1993 . Ре...</td>\n",
       "    </tr>\n",
       "    <tr>\n",
       "      <th>...</th>\n",
       "      <td>...</td>\n",
       "    </tr>\n",
       "    <tr>\n",
       "      <th>44739</th>\n",
       "      <td>Мужчина ,  30 лет , родился 17 января 1989 . Ф...</td>\n",
       "    </tr>\n",
       "    <tr>\n",
       "      <th>44740</th>\n",
       "      <td>Мужчина ,  27 лет , родился 5 марта 1992 . Сис...</td>\n",
       "    </tr>\n",
       "    <tr>\n",
       "      <th>44741</th>\n",
       "      <td>Женщина ,  48 лет , родилась 26 декабря 1970 ....</td>\n",
       "    </tr>\n",
       "    <tr>\n",
       "      <th>44742</th>\n",
       "      <td>Мужчина ,  24 года , родился 6 октября 1994 . ...</td>\n",
       "    </tr>\n",
       "    <tr>\n",
       "      <th>44743</th>\n",
       "      <td>Мужчина ,  38 лет , родился 25 апреля 1980 . Р...</td>\n",
       "    </tr>\n",
       "  </tbody>\n",
       "</table>\n",
       "<p>44744 rows × 1 columns</p>\n",
       "</div>"
      ],
      "text/plain": [
       "                                                    text\n",
       "0      Мужчина ,  39 лет , родился 27 ноября 1979 . С...\n",
       "1      Мужчина ,  60 лет , родился 20 марта 1959 . Те...\n",
       "2      Женщина ,  36 лет , родилась 12 августа 1982 ....\n",
       "3      Мужчина ,  38 лет , родился 25 июня 1980 . Веб...\n",
       "4      Женщина ,  26 лет , родилась 3 марта 1993 . Ре...\n",
       "...                                                  ...\n",
       "44739  Мужчина ,  30 лет , родился 17 января 1989 . Ф...\n",
       "44740  Мужчина ,  27 лет , родился 5 марта 1992 . Сис...\n",
       "44741  Женщина ,  48 лет , родилась 26 декабря 1970 ....\n",
       "44742  Мужчина ,  24 года , родился 6 октября 1994 . ...\n",
       "44743  Мужчина ,  38 лет , родился 25 апреля 1980 . Р...\n",
       "\n",
       "[44744 rows x 1 columns]"
      ]
     },
     "execution_count": 5,
     "metadata": {},
     "output_type": "execute_result"
    }
   ],
   "source": [
    "processed_cvs = pd.read_csv(processed_cvs_path)\n",
    "processed_cvs"
   ]
  },
  {
   "cell_type": "code",
   "execution_count": 6,
   "metadata": {},
   "outputs": [],
   "source": [
    "model = SentenceTransformer('cointegrated/LaBSE-en-ru')"
   ]
  },
  {
   "cell_type": "code",
   "execution_count": 9,
   "metadata": {},
   "outputs": [],
   "source": [
    "n_batch = 1000\n",
    "\n",
    "def chunks(n, lst):\n",
    "    for i in range(0, len(lst), n):\n",
    "        print(i)\n",
    "        yield lst[i:i + n]\n",
    "\n",
    "def to_csv(filename, texts):\n",
    "    print(f\"Total texts found: {len(texts)}\")\n",
    "    with open(filename, 'w') as file:\n",
    "        file.write('embeddings')\n",
    "        for i, chunk in enumerate(chunks(n_batch, texts)):\n",
    "            try:\n",
    "                encoded_chunk = model.encode(chunk)\n",
    "                content = '\\n' + '\\n'.join(map(lambda x: ':'.join(map(str, x)), encoded_chunk))\n",
    "                file.write(content)\n",
    "            except BaseException as e:\n",
    "                print(f\"Error in {i} chunk: {e}\")"
   ]
  },
  {
   "cell_type": "code",
   "execution_count": 8,
   "metadata": {},
   "outputs": [
    {
     "name": "stdout",
     "output_type": "stream",
     "text": [
      "Needs texts description\n",
      "0\n",
      "1000\n",
      "2000\n",
      "3000\n",
      "4000\n",
      "5000\n",
      "6000\n",
      "7000\n",
      "8000\n",
      "9000\n",
      "10000\n",
      "11000\n",
      "12000\n",
      "13000\n",
      "14000\n",
      "15000\n",
      "16000\n",
      "17000\n",
      "18000\n",
      "19000\n",
      "20000\n",
      "21000\n",
      "22000\n",
      "23000\n",
      "24000\n",
      "25000\n",
      "26000\n",
      "27000\n",
      "Error in chunk: {chunk}\n",
      "28000\n"
     ]
    }
   ],
   "source": [
    "to_csv(vacancies_embeddings_path, processed_vacancies['text'].tolist())"
   ]
  },
  {
   "cell_type": "code",
   "execution_count": 8,
   "metadata": {},
   "outputs": [
    {
     "name": "stdout",
     "output_type": "stream",
     "text": [
      "Total texts found: 44744\n",
      "0\n",
      "1000\n",
      "2000\n",
      "3000\n",
      "4000\n",
      "5000\n",
      "6000\n",
      "7000\n",
      "8000\n",
      "9000\n",
      "Error in chunk: {chunk}\n",
      "10000\n",
      "11000\n",
      "12000\n",
      "13000\n",
      "14000\n",
      "15000\n",
      "16000\n",
      "17000\n",
      "18000\n",
      "Error in chunk: {chunk}\n",
      "19000\n",
      "20000\n",
      "21000\n",
      "22000\n",
      "23000\n",
      "24000\n",
      "25000\n",
      "26000\n",
      "27000\n",
      "28000\n",
      "29000\n",
      "30000\n",
      "31000\n",
      "32000\n",
      "33000\n",
      "34000\n",
      "35000\n",
      "36000\n",
      "37000\n",
      "38000\n",
      "39000\n",
      "40000\n",
      "41000\n",
      "42000\n",
      "43000\n",
      "44000\n"
     ]
    }
   ],
   "source": [
    "to_csv(cvs_embeddings_path, processed_cvs['text'].tolist())"
   ]
  },
  {
   "cell_type": "code",
   "execution_count": null,
   "metadata": {},
   "outputs": [],
   "source": []
  }
 ],
 "metadata": {
  "kernelspec": {
   "display_name": "venv",
   "language": "python",
   "name": "python3"
  },
  "language_info": {
   "codemirror_mode": {
    "name": "ipython",
    "version": 3
   },
   "file_extension": ".py",
   "mimetype": "text/x-python",
   "name": "python",
   "nbconvert_exporter": "python",
   "pygments_lexer": "ipython3",
   "version": "3.11.6"
  }
 },
 "nbformat": 4,
 "nbformat_minor": 2
}
