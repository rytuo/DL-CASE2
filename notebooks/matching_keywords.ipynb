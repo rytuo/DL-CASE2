{
 "cells": [
  {
   "cell_type": "markdown",
   "metadata": {},
   "source": [
    "# Matching algorithm via keywords\n",
    "\n",
    "### Prerequisites\n",
    "\n",
    "Download processed datasets via `git lfs fetch --include \"data/processed/*.csv\"`\n",
    "\n",
    "or create them from scratch with [preprocess.ipynb](./preprocess.ipynb)"
   ]
  },
  {
   "cell_type": "code",
   "execution_count": 1,
   "metadata": {},
   "outputs": [
    {
     "name": "stdout",
     "output_type": "stream",
     "text": [
      "Requirement already satisfied: pandas in /Users/alv.popov/prj/DL-CASE2/venv/lib/python3.11/site-packages (2.1.4)\n",
      "Requirement already satisfied: numpy<2,>=1.23.2 in /Users/alv.popov/prj/DL-CASE2/venv/lib/python3.11/site-packages (from pandas) (1.26.2)\n",
      "Requirement already satisfied: python-dateutil>=2.8.2 in /Users/alv.popov/prj/DL-CASE2/venv/lib/python3.11/site-packages (from pandas) (2.8.2)\n",
      "Requirement already satisfied: pytz>=2020.1 in /Users/alv.popov/prj/DL-CASE2/venv/lib/python3.11/site-packages (from pandas) (2023.3.post1)\n",
      "Requirement already satisfied: tzdata>=2022.1 in /Users/alv.popov/prj/DL-CASE2/venv/lib/python3.11/site-packages (from pandas) (2023.3)\n",
      "Requirement already satisfied: six>=1.5 in /Users/alv.popov/prj/DL-CASE2/venv/lib/python3.11/site-packages (from python-dateutil>=2.8.2->pandas) (1.16.0)\n",
      "Requirement already satisfied: scikit-learn in /Users/alv.popov/prj/DL-CASE2/venv/lib/python3.11/site-packages (1.3.2)\n",
      "Requirement already satisfied: numpy<2.0,>=1.17.3 in /Users/alv.popov/prj/DL-CASE2/venv/lib/python3.11/site-packages (from scikit-learn) (1.26.2)\n",
      "Requirement already satisfied: scipy>=1.5.0 in /Users/alv.popov/prj/DL-CASE2/venv/lib/python3.11/site-packages (from scikit-learn) (1.11.4)\n",
      "Requirement already satisfied: joblib>=1.1.1 in /Users/alv.popov/prj/DL-CASE2/venv/lib/python3.11/site-packages (from scikit-learn) (1.3.2)\n",
      "Requirement already satisfied: threadpoolctl>=2.0.0 in /Users/alv.popov/prj/DL-CASE2/venv/lib/python3.11/site-packages (from scikit-learn) (3.2.0)\n",
      "Requirement already satisfied: nltk in /Users/alv.popov/prj/DL-CASE2/venv/lib/python3.11/site-packages (3.8.1)\n",
      "Requirement already satisfied: click in /Users/alv.popov/prj/DL-CASE2/venv/lib/python3.11/site-packages (from nltk) (8.1.7)\n",
      "Requirement already satisfied: joblib in /Users/alv.popov/prj/DL-CASE2/venv/lib/python3.11/site-packages (from nltk) (1.3.2)\n",
      "Requirement already satisfied: regex>=2021.8.3 in /Users/alv.popov/prj/DL-CASE2/venv/lib/python3.11/site-packages (from nltk) (2023.10.3)\n",
      "Requirement already satisfied: tqdm in /Users/alv.popov/prj/DL-CASE2/venv/lib/python3.11/site-packages (from nltk) (4.66.1)\n",
      "Requirement already satisfied: transformers in /Users/alv.popov/prj/DL-CASE2/venv/lib/python3.11/site-packages (4.36.1)\n",
      "Requirement already satisfied: filelock in /Users/alv.popov/prj/DL-CASE2/venv/lib/python3.11/site-packages (from transformers) (3.13.1)\n",
      "Requirement already satisfied: huggingface-hub<1.0,>=0.19.3 in /Users/alv.popov/prj/DL-CASE2/venv/lib/python3.11/site-packages (from transformers) (0.19.4)\n",
      "Requirement already satisfied: numpy>=1.17 in /Users/alv.popov/prj/DL-CASE2/venv/lib/python3.11/site-packages (from transformers) (1.26.2)\n",
      "Requirement already satisfied: packaging>=20.0 in /Users/alv.popov/prj/DL-CASE2/venv/lib/python3.11/site-packages (from transformers) (23.2)\n",
      "Requirement already satisfied: pyyaml>=5.1 in /Users/alv.popov/prj/DL-CASE2/venv/lib/python3.11/site-packages (from transformers) (6.0.1)\n",
      "Requirement already satisfied: regex!=2019.12.17 in /Users/alv.popov/prj/DL-CASE2/venv/lib/python3.11/site-packages (from transformers) (2023.10.3)\n",
      "Requirement already satisfied: requests in /Users/alv.popov/prj/DL-CASE2/venv/lib/python3.11/site-packages (from transformers) (2.31.0)\n",
      "Requirement already satisfied: tokenizers<0.19,>=0.14 in /Users/alv.popov/prj/DL-CASE2/venv/lib/python3.11/site-packages (from transformers) (0.15.0)\n",
      "Requirement already satisfied: safetensors>=0.3.1 in /Users/alv.popov/prj/DL-CASE2/venv/lib/python3.11/site-packages (from transformers) (0.4.1)\n",
      "Requirement already satisfied: tqdm>=4.27 in /Users/alv.popov/prj/DL-CASE2/venv/lib/python3.11/site-packages (from transformers) (4.66.1)\n",
      "Requirement already satisfied: fsspec>=2023.5.0 in /Users/alv.popov/prj/DL-CASE2/venv/lib/python3.11/site-packages (from huggingface-hub<1.0,>=0.19.3->transformers) (2023.12.2)\n",
      "Requirement already satisfied: typing-extensions>=3.7.4.3 in /Users/alv.popov/prj/DL-CASE2/venv/lib/python3.11/site-packages (from huggingface-hub<1.0,>=0.19.3->transformers) (4.9.0)\n",
      "Requirement already satisfied: charset-normalizer<4,>=2 in /Users/alv.popov/prj/DL-CASE2/venv/lib/python3.11/site-packages (from requests->transformers) (3.3.2)\n",
      "Requirement already satisfied: idna<4,>=2.5 in /Users/alv.popov/prj/DL-CASE2/venv/lib/python3.11/site-packages (from requests->transformers) (3.6)\n",
      "Requirement already satisfied: urllib3<3,>=1.21.1 in /Users/alv.popov/prj/DL-CASE2/venv/lib/python3.11/site-packages (from requests->transformers) (2.1.0)\n",
      "Requirement already satisfied: certifi>=2017.4.17 in /Users/alv.popov/prj/DL-CASE2/venv/lib/python3.11/site-packages (from requests->transformers) (2023.11.17)\n",
      "Requirement already satisfied: numpy in /Users/alv.popov/prj/DL-CASE2/venv/lib/python3.11/site-packages (1.26.2)\n",
      "Requirement already satisfied: rake-nltk in /Users/alv.popov/prj/DL-CASE2/venv/lib/python3.11/site-packages (1.0.6)\n",
      "Requirement already satisfied: nltk<4.0.0,>=3.6.2 in /Users/alv.popov/prj/DL-CASE2/venv/lib/python3.11/site-packages (from rake-nltk) (3.8.1)\n",
      "Requirement already satisfied: click in /Users/alv.popov/prj/DL-CASE2/venv/lib/python3.11/site-packages (from nltk<4.0.0,>=3.6.2->rake-nltk) (8.1.7)\n",
      "Requirement already satisfied: joblib in /Users/alv.popov/prj/DL-CASE2/venv/lib/python3.11/site-packages (from nltk<4.0.0,>=3.6.2->rake-nltk) (1.3.2)\n",
      "Requirement already satisfied: regex>=2021.8.3 in /Users/alv.popov/prj/DL-CASE2/venv/lib/python3.11/site-packages (from nltk<4.0.0,>=3.6.2->rake-nltk) (2023.10.3)\n",
      "Requirement already satisfied: tqdm in /Users/alv.popov/prj/DL-CASE2/venv/lib/python3.11/site-packages (from nltk<4.0.0,>=3.6.2->rake-nltk) (4.66.1)\n",
      "Collecting git+https://github.com/LIAAD/yake\n",
      "  Cloning https://github.com/LIAAD/yake to /private/var/folders/3y/lpnlj_f962vbckl7626fst540000gq/T/pip-req-build-l8z6f3hc\n",
      "  Running command git clone --filter=blob:none --quiet https://github.com/LIAAD/yake /private/var/folders/3y/lpnlj_f962vbckl7626fst540000gq/T/pip-req-build-l8z6f3hc\n",
      "  Resolved https://github.com/LIAAD/yake to commit 374fc1c1c19eb080d5b6115cbb8d4a4324392e54\n",
      "  Installing build dependencies ... \u001b[?25ldone\n",
      "\u001b[?25h  Getting requirements to build wheel ... \u001b[?25ldone\n",
      "\u001b[?25h  Installing backend dependencies ... \u001b[?25ldone\n",
      "\u001b[?25h  Preparing metadata (pyproject.toml) ... \u001b[?25ldone\n",
      "\u001b[?25hRequirement already satisfied: pip in /Users/alv.popov/prj/DL-CASE2/venv/lib/python3.11/site-packages (23.3.2)\n",
      "Requirement already satisfied: install in /Users/alv.popov/prj/DL-CASE2/venv/lib/python3.11/site-packages (1.3.5)\n",
      "Requirement already satisfied: tabulate in /Users/alv.popov/prj/DL-CASE2/venv/lib/python3.11/site-packages (from yake==0.4.8) (0.9.0)\n",
      "Requirement already satisfied: click>=6.0 in /Users/alv.popov/prj/DL-CASE2/venv/lib/python3.11/site-packages (from yake==0.4.8) (8.1.7)\n",
      "Requirement already satisfied: numpy in /Users/alv.popov/prj/DL-CASE2/venv/lib/python3.11/site-packages (from yake==0.4.8) (1.26.2)\n",
      "Requirement already satisfied: segtok in /Users/alv.popov/prj/DL-CASE2/venv/lib/python3.11/site-packages (from yake==0.4.8) (1.5.11)\n",
      "Requirement already satisfied: networkx in /Users/alv.popov/prj/DL-CASE2/venv/lib/python3.11/site-packages (from yake==0.4.8) (3.2.1)\n",
      "Requirement already satisfied: jellyfish in /Users/alv.popov/prj/DL-CASE2/venv/lib/python3.11/site-packages (from yake==0.4.8) (1.0.3)\n",
      "Requirement already satisfied: regex in /Users/alv.popov/prj/DL-CASE2/venv/lib/python3.11/site-packages (from segtok->yake==0.4.8) (2023.10.3)\n",
      "Requirement already satisfied: keybert in /Users/alv.popov/prj/DL-CASE2/venv/lib/python3.11/site-packages (0.8.3)\n",
      "Requirement already satisfied: sentence-transformers>=0.3.8 in /Users/alv.popov/prj/DL-CASE2/venv/lib/python3.11/site-packages (from keybert) (2.2.2)\n",
      "Requirement already satisfied: scikit-learn>=0.22.2 in /Users/alv.popov/prj/DL-CASE2/venv/lib/python3.11/site-packages (from keybert) (1.3.2)\n",
      "Requirement already satisfied: numpy>=1.18.5 in /Users/alv.popov/prj/DL-CASE2/venv/lib/python3.11/site-packages (from keybert) (1.26.2)\n",
      "Requirement already satisfied: rich>=10.4.0 in /Users/alv.popov/prj/DL-CASE2/venv/lib/python3.11/site-packages (from keybert) (13.7.0)\n",
      "Requirement already satisfied: markdown-it-py>=2.2.0 in /Users/alv.popov/prj/DL-CASE2/venv/lib/python3.11/site-packages (from rich>=10.4.0->keybert) (3.0.0)\n",
      "Requirement already satisfied: pygments<3.0.0,>=2.13.0 in /Users/alv.popov/prj/DL-CASE2/venv/lib/python3.11/site-packages (from rich>=10.4.0->keybert) (2.17.2)\n",
      "Requirement already satisfied: scipy>=1.5.0 in /Users/alv.popov/prj/DL-CASE2/venv/lib/python3.11/site-packages (from scikit-learn>=0.22.2->keybert) (1.11.4)\n",
      "Requirement already satisfied: joblib>=1.1.1 in /Users/alv.popov/prj/DL-CASE2/venv/lib/python3.11/site-packages (from scikit-learn>=0.22.2->keybert) (1.3.2)\n",
      "Requirement already satisfied: threadpoolctl>=2.0.0 in /Users/alv.popov/prj/DL-CASE2/venv/lib/python3.11/site-packages (from scikit-learn>=0.22.2->keybert) (3.2.0)\n",
      "Requirement already satisfied: transformers<5.0.0,>=4.6.0 in /Users/alv.popov/prj/DL-CASE2/venv/lib/python3.11/site-packages (from sentence-transformers>=0.3.8->keybert) (4.36.1)\n",
      "Requirement already satisfied: tqdm in /Users/alv.popov/prj/DL-CASE2/venv/lib/python3.11/site-packages (from sentence-transformers>=0.3.8->keybert) (4.66.1)\n",
      "Requirement already satisfied: torch>=1.6.0 in /Users/alv.popov/prj/DL-CASE2/venv/lib/python3.11/site-packages (from sentence-transformers>=0.3.8->keybert) (2.1.2)\n",
      "Requirement already satisfied: torchvision in /Users/alv.popov/prj/DL-CASE2/venv/lib/python3.11/site-packages (from sentence-transformers>=0.3.8->keybert) (0.16.2)\n",
      "Requirement already satisfied: nltk in /Users/alv.popov/prj/DL-CASE2/venv/lib/python3.11/site-packages (from sentence-transformers>=0.3.8->keybert) (3.8.1)\n",
      "Requirement already satisfied: sentencepiece in /Users/alv.popov/prj/DL-CASE2/venv/lib/python3.11/site-packages (from sentence-transformers>=0.3.8->keybert) (0.1.99)\n",
      "Requirement already satisfied: huggingface-hub>=0.4.0 in /Users/alv.popov/prj/DL-CASE2/venv/lib/python3.11/site-packages (from sentence-transformers>=0.3.8->keybert) (0.19.4)\n",
      "Requirement already satisfied: filelock in /Users/alv.popov/prj/DL-CASE2/venv/lib/python3.11/site-packages (from huggingface-hub>=0.4.0->sentence-transformers>=0.3.8->keybert) (3.13.1)\n",
      "Requirement already satisfied: fsspec>=2023.5.0 in /Users/alv.popov/prj/DL-CASE2/venv/lib/python3.11/site-packages (from huggingface-hub>=0.4.0->sentence-transformers>=0.3.8->keybert) (2023.12.2)\n",
      "Requirement already satisfied: requests in /Users/alv.popov/prj/DL-CASE2/venv/lib/python3.11/site-packages (from huggingface-hub>=0.4.0->sentence-transformers>=0.3.8->keybert) (2.31.0)\n",
      "Requirement already satisfied: pyyaml>=5.1 in /Users/alv.popov/prj/DL-CASE2/venv/lib/python3.11/site-packages (from huggingface-hub>=0.4.0->sentence-transformers>=0.3.8->keybert) (6.0.1)\n",
      "Requirement already satisfied: typing-extensions>=3.7.4.3 in /Users/alv.popov/prj/DL-CASE2/venv/lib/python3.11/site-packages (from huggingface-hub>=0.4.0->sentence-transformers>=0.3.8->keybert) (4.9.0)\n",
      "Requirement already satisfied: packaging>=20.9 in /Users/alv.popov/prj/DL-CASE2/venv/lib/python3.11/site-packages (from huggingface-hub>=0.4.0->sentence-transformers>=0.3.8->keybert) (23.2)\n",
      "Requirement already satisfied: mdurl~=0.1 in /Users/alv.popov/prj/DL-CASE2/venv/lib/python3.11/site-packages (from markdown-it-py>=2.2.0->rich>=10.4.0->keybert) (0.1.2)\n",
      "Requirement already satisfied: sympy in /Users/alv.popov/prj/DL-CASE2/venv/lib/python3.11/site-packages (from torch>=1.6.0->sentence-transformers>=0.3.8->keybert) (1.12)\n",
      "Requirement already satisfied: networkx in /Users/alv.popov/prj/DL-CASE2/venv/lib/python3.11/site-packages (from torch>=1.6.0->sentence-transformers>=0.3.8->keybert) (3.2.1)\n",
      "Requirement already satisfied: jinja2 in /Users/alv.popov/prj/DL-CASE2/venv/lib/python3.11/site-packages (from torch>=1.6.0->sentence-transformers>=0.3.8->keybert) (3.1.2)\n",
      "Requirement already satisfied: regex!=2019.12.17 in /Users/alv.popov/prj/DL-CASE2/venv/lib/python3.11/site-packages (from transformers<5.0.0,>=4.6.0->sentence-transformers>=0.3.8->keybert) (2023.10.3)\n",
      "Requirement already satisfied: tokenizers<0.19,>=0.14 in /Users/alv.popov/prj/DL-CASE2/venv/lib/python3.11/site-packages (from transformers<5.0.0,>=4.6.0->sentence-transformers>=0.3.8->keybert) (0.15.0)\n",
      "Requirement already satisfied: safetensors>=0.3.1 in /Users/alv.popov/prj/DL-CASE2/venv/lib/python3.11/site-packages (from transformers<5.0.0,>=4.6.0->sentence-transformers>=0.3.8->keybert) (0.4.1)\n",
      "Requirement already satisfied: click in /Users/alv.popov/prj/DL-CASE2/venv/lib/python3.11/site-packages (from nltk->sentence-transformers>=0.3.8->keybert) (8.1.7)\n",
      "Requirement already satisfied: pillow!=8.3.*,>=5.3.0 in /Users/alv.popov/prj/DL-CASE2/venv/lib/python3.11/site-packages (from torchvision->sentence-transformers>=0.3.8->keybert) (10.1.0)\n",
      "Requirement already satisfied: MarkupSafe>=2.0 in /Users/alv.popov/prj/DL-CASE2/venv/lib/python3.11/site-packages (from jinja2->torch>=1.6.0->sentence-transformers>=0.3.8->keybert) (2.1.3)\n",
      "Requirement already satisfied: charset-normalizer<4,>=2 in /Users/alv.popov/prj/DL-CASE2/venv/lib/python3.11/site-packages (from requests->huggingface-hub>=0.4.0->sentence-transformers>=0.3.8->keybert) (3.3.2)\n",
      "Requirement already satisfied: idna<4,>=2.5 in /Users/alv.popov/prj/DL-CASE2/venv/lib/python3.11/site-packages (from requests->huggingface-hub>=0.4.0->sentence-transformers>=0.3.8->keybert) (3.6)\n",
      "Requirement already satisfied: urllib3<3,>=1.21.1 in /Users/alv.popov/prj/DL-CASE2/venv/lib/python3.11/site-packages (from requests->huggingface-hub>=0.4.0->sentence-transformers>=0.3.8->keybert) (2.1.0)\n",
      "Requirement already satisfied: certifi>=2017.4.17 in /Users/alv.popov/prj/DL-CASE2/venv/lib/python3.11/site-packages (from requests->huggingface-hub>=0.4.0->sentence-transformers>=0.3.8->keybert) (2023.11.17)\n",
      "Requirement already satisfied: mpmath>=0.19 in /Users/alv.popov/prj/DL-CASE2/venv/lib/python3.11/site-packages (from sympy->torch>=1.6.0->sentence-transformers>=0.3.8->keybert) (1.3.0)\n"
     ]
    }
   ],
   "source": [
    "!pip install pandas\n",
    "!pip install scikit-learn\n",
    "!pip install nltk\n",
    "!pip install transformers\n",
    "!pip install numpy\n",
    "\n",
    "!pip install rake-nltk\n",
    "!pip install pip install git+https://github.com/LIAAD/yake\n",
    "!pip install keybert"
   ]
  },
  {
   "cell_type": "code",
   "execution_count": 20,
   "metadata": {},
   "outputs": [
    {
     "name": "stderr",
     "output_type": "stream",
     "text": [
      "[nltk_data] Downloading package stopwords to\n",
      "[nltk_data]     /Users/alv.popov/nltk_data...\n",
      "[nltk_data]   Package stopwords is already up-to-date!\n",
      "[nltk_data] Downloading package punkt to /Users/alv.popov/nltk_data...\n",
      "[nltk_data]   Package punkt is already up-to-date!\n"
     ]
    },
    {
     "data": {
      "text/plain": [
       "True"
      ]
     },
     "execution_count": 20,
     "metadata": {},
     "output_type": "execute_result"
    }
   ],
   "source": [
    "import os\n",
    "import os.path as path\n",
    "import pandas as pd\n",
    "import nltk\n",
    "from sklearn.metrics.pairwise import cosine_similarity\n",
    "from sentence_transformers import SentenceTransformer\n",
    "import numpy as np\n",
    "\n",
    "from rake_nltk import Rake\n",
    "import yake\n",
    "from keybert import KeyBERT\n",
    "\n",
    "nltk.download('stopwords')\n",
    "nltk.download('punkt')"
   ]
  },
  {
   "cell_type": "code",
   "execution_count": 3,
   "metadata": {},
   "outputs": [
    {
     "data": {
      "text/plain": [
       "'/Users/alv.popov/prj/DL-CASE2/data/processed/cvs.csv'"
      ]
     },
     "execution_count": 3,
     "metadata": {},
     "output_type": "execute_result"
    }
   ],
   "source": [
    "root_dir = path.dirname(path.abspath(os.getcwd()))\n",
    "data_dir = path.join(root_dir, 'data')\n",
    "processed_data_dir = path.join(data_dir, 'processed')\n",
    "\n",
    "processed_vacancies_path = path.join(processed_data_dir, 'vacancies.csv')\n",
    "processed_cvs_path = path.join(processed_data_dir, 'cvs.csv')\n",
    "\n",
    "processed_cvs_path"
   ]
  },
  {
   "cell_type": "code",
   "execution_count": 4,
   "metadata": {},
   "outputs": [
    {
     "data": {
      "text/html": [
       "<div>\n",
       "<style scoped>\n",
       "    .dataframe tbody tr th:only-of-type {\n",
       "        vertical-align: middle;\n",
       "    }\n",
       "\n",
       "    .dataframe tbody tr th {\n",
       "        vertical-align: top;\n",
       "    }\n",
       "\n",
       "    .dataframe thead th {\n",
       "        text-align: right;\n",
       "    }\n",
       "</style>\n",
       "<table border=\"1\" class=\"dataframe\">\n",
       "  <thead>\n",
       "    <tr style=\"text-align: right;\">\n",
       "      <th></th>\n",
       "      <th>text</th>\n",
       "    </tr>\n",
       "  </thead>\n",
       "  <tbody>\n",
       "    <tr>\n",
       "      <th>0</th>\n",
       "      <td>Project R’n’D / Технолог R’n’D . MF Kitchen — ...</td>\n",
       "    </tr>\n",
       "    <tr>\n",
       "      <th>1</th>\n",
       "      <td>Продавец-кассир (Москва, Богданова, 16) . Обяз...</td>\n",
       "    </tr>\n",
       "    <tr>\n",
       "      <th>2</th>\n",
       "      <td>Продавец-кассир (Москва, Новогиреевская, 11/36...</td>\n",
       "    </tr>\n",
       "    <tr>\n",
       "      <th>3</th>\n",
       "      <td>Product owner бизнес–стрима \"Аналитика и Отчет...</td>\n",
       "    </tr>\n",
       "    <tr>\n",
       "      <th>4</th>\n",
       "      <td>Business Development Director (CTO) . Студия О...</td>\n",
       "    </tr>\n",
       "    <tr>\n",
       "      <th>...</th>\n",
       "      <td>...</td>\n",
       "    </tr>\n",
       "    <tr>\n",
       "      <th>96220</th>\n",
       "      <td>Оператор 1C .   ТД «ЛФБ» - семейная компания, ...</td>\n",
       "    </tr>\n",
       "    <tr>\n",
       "      <th>96221</th>\n",
       "      <td>Стажер Управления финансирования торговли . КР...</td>\n",
       "    </tr>\n",
       "    <tr>\n",
       "      <th>96222</th>\n",
       "      <td>Преподаватель математики/информатики . Обязанн...</td>\n",
       "    </tr>\n",
       "    <tr>\n",
       "      <th>96223</th>\n",
       "      <td>Программист С++ / Linux . Требования:  Знание ...</td>\n",
       "    </tr>\n",
       "    <tr>\n",
       "      <th>96224</th>\n",
       "      <td>Бухгалтер . В динамично развивающуюся компанию...</td>\n",
       "    </tr>\n",
       "  </tbody>\n",
       "</table>\n",
       "<p>96225 rows × 1 columns</p>\n",
       "</div>"
      ],
      "text/plain": [
       "                                                    text\n",
       "0      Project R’n’D / Технолог R’n’D . MF Kitchen — ...\n",
       "1      Продавец-кассир (Москва, Богданова, 16) . Обяз...\n",
       "2      Продавец-кассир (Москва, Новогиреевская, 11/36...\n",
       "3      Product owner бизнес–стрима \"Аналитика и Отчет...\n",
       "4      Business Development Director (CTO) . Студия О...\n",
       "...                                                  ...\n",
       "96220  Оператор 1C .   ТД «ЛФБ» - семейная компания, ...\n",
       "96221  Стажер Управления финансирования торговли . КР...\n",
       "96222  Преподаватель математики/информатики . Обязанн...\n",
       "96223  Программист С++ / Linux . Требования:  Знание ...\n",
       "96224  Бухгалтер . В динамично развивающуюся компанию...\n",
       "\n",
       "[96225 rows x 1 columns]"
      ]
     },
     "execution_count": 4,
     "metadata": {},
     "output_type": "execute_result"
    }
   ],
   "source": [
    "processed_vacancies = pd.read_csv(processed_vacancies_path)\n",
    "processed_vacancies = processed_vacancies[processed_vacancies['text'].notnull()]\n",
    "processed_vacancies"
   ]
  },
  {
   "cell_type": "code",
   "execution_count": 5,
   "metadata": {},
   "outputs": [
    {
     "data": {
      "text/html": [
       "<div>\n",
       "<style scoped>\n",
       "    .dataframe tbody tr th:only-of-type {\n",
       "        vertical-align: middle;\n",
       "    }\n",
       "\n",
       "    .dataframe tbody tr th {\n",
       "        vertical-align: top;\n",
       "    }\n",
       "\n",
       "    .dataframe thead th {\n",
       "        text-align: right;\n",
       "    }\n",
       "</style>\n",
       "<table border=\"1\" class=\"dataframe\">\n",
       "  <thead>\n",
       "    <tr style=\"text-align: right;\">\n",
       "      <th></th>\n",
       "      <th>text</th>\n",
       "    </tr>\n",
       "  </thead>\n",
       "  <tbody>\n",
       "    <tr>\n",
       "      <th>0</th>\n",
       "      <td>Мужчина ,  39 лет , родился 27 ноября 1979 . С...</td>\n",
       "    </tr>\n",
       "    <tr>\n",
       "      <th>1</th>\n",
       "      <td>Мужчина ,  60 лет , родился 20 марта 1959 . Те...</td>\n",
       "    </tr>\n",
       "    <tr>\n",
       "      <th>2</th>\n",
       "      <td>Женщина ,  36 лет , родилась 12 августа 1982 ....</td>\n",
       "    </tr>\n",
       "    <tr>\n",
       "      <th>3</th>\n",
       "      <td>Мужчина ,  38 лет , родился 25 июня 1980 . Веб...</td>\n",
       "    </tr>\n",
       "    <tr>\n",
       "      <th>4</th>\n",
       "      <td>Женщина ,  26 лет , родилась 3 марта 1993 . Ре...</td>\n",
       "    </tr>\n",
       "    <tr>\n",
       "      <th>...</th>\n",
       "      <td>...</td>\n",
       "    </tr>\n",
       "    <tr>\n",
       "      <th>44739</th>\n",
       "      <td>Мужчина ,  30 лет , родился 17 января 1989 . Ф...</td>\n",
       "    </tr>\n",
       "    <tr>\n",
       "      <th>44740</th>\n",
       "      <td>Мужчина ,  27 лет , родился 5 марта 1992 . Сис...</td>\n",
       "    </tr>\n",
       "    <tr>\n",
       "      <th>44741</th>\n",
       "      <td>Женщина ,  48 лет , родилась 26 декабря 1970 ....</td>\n",
       "    </tr>\n",
       "    <tr>\n",
       "      <th>44742</th>\n",
       "      <td>Мужчина ,  24 года , родился 6 октября 1994 . ...</td>\n",
       "    </tr>\n",
       "    <tr>\n",
       "      <th>44743</th>\n",
       "      <td>Мужчина ,  38 лет , родился 25 апреля 1980 . Р...</td>\n",
       "    </tr>\n",
       "  </tbody>\n",
       "</table>\n",
       "<p>44574 rows × 1 columns</p>\n",
       "</div>"
      ],
      "text/plain": [
       "                                                    text\n",
       "0      Мужчина ,  39 лет , родился 27 ноября 1979 . С...\n",
       "1      Мужчина ,  60 лет , родился 20 марта 1959 . Те...\n",
       "2      Женщина ,  36 лет , родилась 12 августа 1982 ....\n",
       "3      Мужчина ,  38 лет , родился 25 июня 1980 . Веб...\n",
       "4      Женщина ,  26 лет , родилась 3 марта 1993 . Ре...\n",
       "...                                                  ...\n",
       "44739  Мужчина ,  30 лет , родился 17 января 1989 . Ф...\n",
       "44740  Мужчина ,  27 лет , родился 5 марта 1992 . Сис...\n",
       "44741  Женщина ,  48 лет , родилась 26 декабря 1970 ....\n",
       "44742  Мужчина ,  24 года , родился 6 октября 1994 . ...\n",
       "44743  Мужчина ,  38 лет , родился 25 апреля 1980 . Р...\n",
       "\n",
       "[44574 rows x 1 columns]"
      ]
     },
     "execution_count": 5,
     "metadata": {},
     "output_type": "execute_result"
    }
   ],
   "source": [
    "processed_cvs = pd.read_csv(processed_cvs_path)\n",
    "processed_cvs = processed_cvs[processed_cvs['text'].notnull()]\n",
    "processed_cvs"
   ]
  },
  {
   "cell_type": "code",
   "execution_count": 15,
   "metadata": {},
   "outputs": [],
   "source": [
    "# def extract_keywords(text, max_length=5, n_keywords=10):\n",
    "#     rake = Rake(language='russian', max_length=max_length)\n",
    "#     rake.extract_keywords_from_text(str(text))\n",
    "#     return rake.get_ranked_phrases()[:n_keywords]\n",
    "\n",
    "rake = Rake(language='russian')\n",
    "\n",
    "def extract_keywords(text, max_length=5, n_keywords=10):\n",
    "    extractor = yake.KeywordExtractor(\n",
    "        stopwords=rake.to_ignore,\n",
    "        windowsSize=max_length,\n",
    "        top=n_keywords\n",
    "    )\n",
    "    scored_keywords = extractor.extract_keywords(str(text))\n",
    "    return list(map(lambda x: x[0], scored_keywords))\n",
    "\n",
    "\n",
    "# !!!! KeyBert не разбивает на токены,  !!!!\n",
    "\n",
    "# extractor = KeyBERT('cointegrated/LaBSE-en-ru')\n",
    "\n",
    "# def extract_keywords(text, max_length=5, n_keywords=10):\n",
    "#     scored_keywords = extractor.extract_keywords(\n",
    "#         str(text),\n",
    "#         keyphrase_ngram_range=(1, max_length),\n",
    "#         stop_words=rake.to_ignore,\n",
    "#         top_n=n_keywords,\n",
    "#     )\n",
    "#     return list(map(lambda x: x[0], scored_keywords))"
   ]
  },
  {
   "cell_type": "code",
   "execution_count": 16,
   "metadata": {},
   "outputs": [
    {
     "data": {
      "text/plain": [
       "'C++ разработчик в Германию . Мы ищем C++ разработчиков разных уровней от junior до senior с переездом в Берлин.  Наш клиент - немецкая компания, 17 лет на рынке. Их разработка - программное обеспечение для создания диаграмм и макетов, распознавания их с бумажных носителей. Продукт интегрируется в PowerPoint и автоматизирует его работу за счет применения сложных алгоритмов. Повышает эффективность и качество создания слайдов, в несколько раз экономит время пользователю при подготовке презентации. Поставляется с внутренней таблицей данных на основе Excel и интеллектуальными ссылками. Продукт работает и по Windows, и под Mac. При его выходе на рынок это была настоящая революция. Компания занимала первые места в рейтингах лучших стартапов Германии и быстрорастущих бизнесов. У компании 700 000 клиентов по всему миру. Среди них, например, Deloitte, Ernst & Young, Coca-Cola, DHL, 3M, Cisco. В чем еще участвует компания:  спонсор Standard C++ Foundation - ведущего мирового некоммерческого сообщества C++; спонсор Meeting C++ - крупнейшей в Европе конференции C++; финансирование и участие в стандартизации языка C++; совместная работа с Джоном Форрестом, автором CLP; публикация научных статей в области AI и CG; сотрудничество с университетами и исследовательскими институтами США и Германии.  Команда развивает и улучшает продукт, поэтому набирает новых в разработку. Вам предстоит работать в интернациональной команде в берлинском офисе. Все коммуникации внутри на английском языке. Структура плоская - CTO, 20 разработчиков, QA, инженеры техподдержки. У основателей (CEO и CTO) докторская степень в компьютерных науках. Разработчики выступают с инициативами и внедряют свои технические решения, заботятся о качестве кода и самого продукта. Стек технологий и инструменты: C++11, C++14, Boost, Jenkins, svn/git, Также разработаны и используются собственные библиотеки, парсеры, алгоритмы и структуры данных. От вас:    знание C++, любовь к красивому коду и элегантным решениям;   алгоритмическая подготовка;   свободный английский или немецкий;   высшее образование - оно необходимо для работы в Евросоюзе;   готовность переехать в Берлин - удаленка или фриланс невозможны.   От компании:   технически сложные задачи по разработке и участие в развитии C++ комьюнити в целом;   отсутствие жестких дедлайнов, переработок, митингов;   корпоративная няня;   помощь при переезде и получении визы, разрешения на работу;   годовая зарплата от 75000 до 120000 евро gross.   Мы ждем ваши CV на английском языке ;) . Москва'"
      ]
     },
     "metadata": {},
     "output_type": "display_data"
    },
    {
     "data": {
      "text/plain": [
       "['разработчик в Германию',\n",
       " 'разработчиков разных уровней',\n",
       " 'разных уровней',\n",
       " 'уровней от junior',\n",
       " 'junior до senior',\n",
       " 'senior с переездом',\n",
       " 'переездом в Берлин',\n",
       " 'разработчиков разных',\n",
       " 'Германию',\n",
       " 'Наш клиент',\n",
       " 'лет на рынке',\n",
       " 'разработчик',\n",
       " 'Продукт',\n",
       " 'английском языке',\n",
       " 'ищем',\n",
       " 'разных',\n",
       " 'уровней',\n",
       " 'junior',\n",
       " 'senior',\n",
       " 'переездом',\n",
       " 'компания',\n",
       " 'Берлин',\n",
       " 'немецкая компания',\n",
       " 'качество создания слайдов',\n",
       " 'Германии',\n",
       " 'CTO',\n",
       " 'Джоном Форрестом',\n",
       " 'создания диаграмм',\n",
       " 'создания',\n",
       " 'применения сложных алгоритмов']"
      ]
     },
     "metadata": {},
     "output_type": "display_data"
    }
   ],
   "source": [
    "vacancy = processed_vacancies['text'].iloc[121]\n",
    "vacancy_keywords = extract_keywords(vacancy, max_length=1, n_keywords=30)\n",
    "\n",
    "display(vacancy)\n",
    "display(vacancy_keywords)"
   ]
  },
  {
   "cell_type": "code",
   "execution_count": 17,
   "metadata": {},
   "outputs": [
    {
     "data": {
      "text/plain": [
       "'Женщина ,  24 года , родилась 31 октября 1994 . It-специалист, менеджер . Белгород , не готова к переезду , не готова к командировкам . частичная занятость, полная занятость . полный день, удаленная работа . Опыт работы 8 месяцев  It-специалист, менеджер 25 000 руб. Информационные технологии, интернет, телеком Сетевые технологии Телекоммуникации Занятость: частичная занятость, полная занятость График работы: полный день, удаленная работа Опыт работы 8 месяцев Апрель 2018 — Ноябрь  2018 8 месяцев ТЭКБ Менеджер по продажам Грамотная речь, умение работать с клиентами) Ключевые навыки Теперь резюме открыто всему интернету — изменить можно в настройках видимости. Коммуникабельная Общительная Исполнительная Начатое довожу до конца Возникли неполадки. Попробуйте еще раз. Опыт вождения Имеется собственный автомобиль Права категории B Обо мне Грамотная речь, презентабельная внешность , коммуникабельность, ответственность‚ исполнительность, многозадачность, стрессоустойчивость, обучаемость, внимательность, аккуратность, доброжелательность. Неоконченное высшее образование 2019 БелГУ Институт инженерных и цифровых технологий, Инфокоммуникационные технологии и системы связи Знание языков Русский — Родной Английский — A1 — Начальный Гражданство, время в пути до работы Гражданство: Россия Разрешение на работу: Россия Желательное время в пути до работы: Не более часа  Опыт работы 8 месяцев Апрель 2018 — Ноябрь  2018 8 месяцев ТЭКБ Менеджер по продажам Грамотная речь, умение работать с клиентами)   Апрель 2018 — Ноябрь  2018 8 месяцев ТЭКБ Менеджер по продажам Грамотная речь, умение работать с клиентами) . ТЭКБ . Менеджер по продажам . Неоконченное высшее образование 2019 БелГУ Институт инженерных и цифровых технологий, Инфокоммуникационные технологии и системы связи'"
      ]
     },
     "metadata": {},
     "output_type": "display_data"
    },
    {
     "data": {
      "text/plain": [
       "['месяцев ТЭКБ Менеджер',\n",
       " 'ТЭКБ Менеджер',\n",
       " 'продажам Грамотная речь',\n",
       " 'месяцев It-специалист',\n",
       " 'полная занятость График',\n",
       " 'месяцев ТЭКБ',\n",
       " 'менеджер',\n",
       " 'Грамотная речь',\n",
       " 'Менеджер по продажам',\n",
       " 'полный день',\n",
       " 'занятость График работы',\n",
       " 'It-специалист',\n",
       " 'удаленная работа Опыт',\n",
       " 'частичная занятость',\n",
       " 'продажам Грамотная',\n",
       " 'готова к переезду',\n",
       " 'готова к командировкам',\n",
       " 'Общительная Исполнительная Начатое',\n",
       " 'полная занятость',\n",
       " 'Сетевые технологии Телекоммуникации',\n",
       " 'месяцев Апрель',\n",
       " 'Опыт работы',\n",
       " 'удаленная работа',\n",
       " 'работа Опыт работы',\n",
       " 'месяцев',\n",
       " 'технологии Телекоммуникации Занятость',\n",
       " 'ТЭКБ',\n",
       " 'занятость',\n",
       " 'Белгород',\n",
       " 'умение работать']"
      ]
     },
     "metadata": {},
     "output_type": "display_data"
    }
   ],
   "source": [
    "cv = processed_cvs['text'].iloc[815]\n",
    "cv_keywords = extract_keywords(cv, n_keywords=30)\n",
    "\n",
    "display(cv)\n",
    "display(cv_keywords)"
   ]
  },
  {
   "cell_type": "code",
   "execution_count": 21,
   "metadata": {},
   "outputs": [
    {
     "name": "stdout",
     "output_type": "stream",
     "text": [
      "\n",
      "Min: -0.005935093853622675\n",
      "Mean: 0.27975282073020935\n",
      "Max: 0.7031041979789734\n",
      "Harmonic: 0.3452948097313967\n",
      "Median: 0.27299636602401733\n",
      "\n"
     ]
    }
   ],
   "source": [
    "model = SentenceTransformer('cointegrated/LaBSE-en-ru')\n",
    "\n",
    "res = cosine_similarity(model.encode(vacancy_keywords), model.encode(cv_keywords)).ravel()\n",
    "print(\n",
    "f\"\"\"\n",
    "Min: {res.min()}\n",
    "Mean: {res.mean()}\n",
    "Max: {res.max()}\n",
    "Harmonic: {len(res) / sum(1 / res)}\n",
    "Median: {np.median(res)}\n",
    "\"\"\"\n",
    ")"
   ]
  },
  {
   "cell_type": "code",
   "execution_count": 22,
   "metadata": {},
   "outputs": [
    {
     "data": {
      "text/plain": [
       "0.27299637"
      ]
     },
     "execution_count": 22,
     "metadata": {},
     "output_type": "execute_result"
    }
   ],
   "source": [
    "def calc_metric(v1, v2):\n",
    "    return np.median(cosine_similarity(v1, v2))\n",
    "\n",
    "calc_metric(model.encode(vacancy_keywords), model.encode(cv_keywords))"
   ]
  },
  {
   "cell_type": "code",
   "execution_count": 23,
   "metadata": {},
   "outputs": [
    {
     "name": "stdout",
     "output_type": "stream",
     "text": [
      "0.27295914\t0.30121636\t0.25362828\t0.24358062\t0.29201055\t0.22992617\t0.25713181\t0.30777884\t0.25362903\t0.27860218\n",
      "0.21230206\t0.23829053\t0.22328493\t0.27419066\t0.25597212\t0.1892893\t0.21603414\t0.29591143\t0.22867414\t0.22170061\n",
      "0.2938247\t0.26444995\t0.19210538\t0.2492396\t0.24684174\t0.20161954\t0.24709846\t0.29841295\t0.2500275\t0.2449508\n",
      "0.23629296\t0.24705368\t0.23591316\t0.24027659\t0.25954872\t0.19471578\t0.23043692\t0.3013603\t0.19969326\t0.22657508\n",
      "0.24648574\t0.2685027\t0.23113482\t0.28407404\t0.25395507\t0.22926432\t0.30904704\t0.3361689\t0.26167464\t0.24531856\n",
      "0.18539181\t0.2502637\t0.1921595\t0.17520857\t0.23550572\t0.23626813\t0.19599904\t0.24755815\t0.14950567\t0.22162858\n",
      "0.32844064\t0.30562222\t0.28722262\t0.2343201\t0.3223598\t0.4542704\t0.2591659\t0.3286007\t0.2002295\t0.3041939\n",
      "0.22065616\t0.21352707\t0.2048118\t0.21548031\t0.23264842\t0.18847555\t0.2864035\t0.25637072\t0.22647119\t0.2439503\n",
      "0.24280414\t0.23901516\t0.23098895\t0.26828468\t0.23467708\t0.22539166\t0.27083695\t0.2845863\t0.24803486\t0.21259461\n",
      "0.2760768\t0.24408865\t0.21810636\t0.30515474\t0.279216\t0.22755125\t0.26493818\t0.3253281\t0.26119494\t0.20751277\n"
     ]
    }
   ],
   "source": [
    "n_items = 100\n",
    "n_keywords = 10\n",
    "max_length = 5\n",
    "\n",
    "def encode_batch(keywords_batch):\n",
    "    encoded = model.encode(np.concatenate(keywords_batch).tolist())\n",
    "    lengths = np.fromiter(map(len, keywords_batch), dtype=int)\n",
    "    encoded_keywords_iter = (encoded[end - l: end] for end, l in zip(np.cumsum(lengths), lengths))\n",
    "    return np.fromiter(encoded_keywords_iter, dtype=np.ndarray)\n",
    "\n",
    "def get_encodings(dataset):\n",
    "    dataset = dataset.apply(lambda x: extract_keywords(x, max_length, n_keywords))\n",
    "    dataset = dataset.tolist()\n",
    "    return encode_batch(dataset)\n",
    "\n",
    "sampled_vacancies = processed_vacancies.sample(n_items)\n",
    "sampled_cvs = processed_cvs.sample(n_items)\n",
    "\n",
    "vacancies_encodings = get_encodings(sampled_vacancies['text'])\n",
    "cvs_encodings = get_encodings(sampled_cvs['text'])\n",
    "\n",
    "results = np.array([[calc_metric(cv_encoding, vac_encoding) for cv_encoding in cvs_encodings] for vac_encoding in vacancies_encodings])\n",
    "print('\\n'.join(map(lambda x: '\\t'.join(map(str, x)), results[:10, :10])))"
   ]
  },
  {
   "cell_type": "code",
   "execution_count": 27,
   "metadata": {},
   "outputs": [
    {
     "data": {
      "text/plain": [
       "(array([6]), array([5]))"
      ]
     },
     "execution_count": 27,
     "metadata": {},
     "output_type": "execute_result"
    }
   ],
   "source": [
    "np.where(results > 0.45)"
   ]
  },
  {
   "cell_type": "code",
   "execution_count": 25,
   "metadata": {},
   "outputs": [
    {
     "data": {
      "text/plain": [
       "['Требуется инженер проекта',\n",
       " 'инженер проекта Инженерные',\n",
       " 'проекта Инженерные системы',\n",
       " 'главный инженер проекта',\n",
       " 'Инженер проекта',\n",
       " 'Требуется инженер',\n",
       " 'проекта Инженерные',\n",
       " 'Инженерные системы',\n",
       " 'ведущий инженер',\n",
       " 'главный инженер']"
      ]
     },
     "metadata": {},
     "output_type": "display_data"
    },
    {
     "data": {
      "text/plain": [
       "['Инженер ЭВТ Системное',\n",
       " 'ЭВТ Системное администрирование',\n",
       " 'Ведущий специалист-эксперт Системное',\n",
       " 'лицей-интернат Инженер ЭВТ',\n",
       " 'Республиканский лицей-интернат Инженер',\n",
       " 'Системное администрирование',\n",
       " 'Инженер ЭВТ',\n",
       " 'Ижевска Ведущий специалист-эксперт',\n",
       " 'Администрация города Ижевска',\n",
       " 'города Ижевска Ведущий']"
      ]
     },
     "metadata": {},
     "output_type": "display_data"
    },
    {
     "data": {
      "text/plain": [
       "0.45427048"
      ]
     },
     "metadata": {},
     "output_type": "display_data"
    }
   ],
   "source": [
    "kw1 = extract_keywords(sampled_vacancies['text'].iloc[6], max_length, n_keywords)\n",
    "kw2 = extract_keywords(sampled_cvs['text'].iloc[5], max_length, n_keywords)\n",
    "\n",
    "metric = calc_metric(model.encode(kw1), model.encode(kw2))\n",
    "display(kw1, kw2, metric)"
   ]
  },
  {
   "cell_type": "code",
   "execution_count": null,
   "metadata": {},
   "outputs": [],
   "source": []
  }
 ],
 "metadata": {
  "kernelspec": {
   "display_name": "venv",
   "language": "python",
   "name": "python3"
  },
  "language_info": {
   "codemirror_mode": {
    "name": "ipython",
    "version": 3
   },
   "file_extension": ".py",
   "mimetype": "text/x-python",
   "name": "python",
   "nbconvert_exporter": "python",
   "pygments_lexer": "ipython3",
   "version": "3.11.6"
  }
 },
 "nbformat": 4,
 "nbformat_minor": 2
}
