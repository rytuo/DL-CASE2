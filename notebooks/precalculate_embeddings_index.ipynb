{
 "cells": [
  {
   "cell_type": "code",
   "execution_count": 1,
   "metadata": {
    "collapsed": true,
    "ExecuteTime": {
     "end_time": "2023-12-21T14:17:57.178761500Z",
     "start_time": "2023-12-21T14:17:55.896760100Z"
    }
   },
   "outputs": [
    {
     "name": "stderr",
     "output_type": "stream",
     "text": [
      "\n",
      "[notice] A new release of pip available: 22.3.1 -> 23.3.2\n",
      "[notice] To update, run: python.exe -m pip install --upgrade pip\n"
     ]
    }
   ],
   "source": [
    "!pip install pandas > None\n",
    "!pip install sentence-transformers > None\n",
    "!pip install tqdm > None\n",
    "!pip install numpy > None"
   ]
  },
  {
   "cell_type": "code",
   "execution_count": 2,
   "outputs": [],
   "source": [
    "import os\n",
    "import os.path as path\n",
    "import pandas as pd\n",
    "from sentence_transformers import SentenceTransformer\n",
    "import numpy as np"
   ],
   "metadata": {
    "collapsed": false,
    "ExecuteTime": {
     "end_time": "2023-12-21T14:17:58.810763700Z",
     "start_time": "2023-12-21T14:17:57.178761500Z"
    }
   }
  },
  {
   "cell_type": "code",
   "execution_count": null,
   "outputs": [],
   "source": [
    "root_dir = path.dirname(path.abspath(os.getcwd()))\n",
    "data_dir = path.join(root_dir, 'data')\n",
    "processed_data_dir = path.join(data_dir, 'processed')\n",
    "embeddings_dir = path.join(data_dir, 'embeddings')\n",
    "\n",
    "os.makedirs(embeddings_dir, exist_ok=True)\n",
    "\n",
    "processed_vacancies_path = path.join(processed_data_dir, 'vacancies.csv')\n",
    "processed_cvs_path = path.join(processed_data_dir, 'cvs.csv')\n",
    "\n",
    "vacancies_embeddings_path = path.join(embeddings_dir, 'vacancies.csv')\n",
    "cvs_embeddings_path = path.join(embeddings_dir, 'cvs.csv')\n",
    "\n",
    "processed_cvs_path"
   ],
   "metadata": {
    "collapsed": false
   }
  },
  {
   "cell_type": "code",
   "execution_count": null,
   "outputs": [],
   "source": [
    "processed_vacancies = pd.read_csv(processed_vacancies_path)\n",
    "processed_vacancies"
   ],
   "metadata": {
    "collapsed": false
   }
  },
  {
   "cell_type": "code",
   "execution_count": null,
   "outputs": [],
   "source": [
    "processed_cvs = pd.read_csv(processed_cvs_path)\n",
    "processed_cvs"
   ],
   "metadata": {
    "collapsed": false
   }
  },
  {
   "cell_type": "code",
   "execution_count": 8,
   "outputs": [],
   "source": [
    "model = SentenceTransformer('cointegrated/LaBSE-en-ru')"
   ],
   "metadata": {
    "collapsed": false,
    "ExecuteTime": {
     "end_time": "2023-12-21T14:16:57.014056500Z",
     "start_time": "2023-12-21T14:16:56.415116500Z"
    }
   }
  },
  {
   "cell_type": "code",
   "execution_count": 9,
   "outputs": [],
   "source": [
    "n_batch = 1000\n",
    "\n",
    "def chunks(n, lst):\n",
    "    for i in range(0, len(lst), n):\n",
    "        print(i)\n",
    "        yield lst[i:i + n]\n",
    "\n",
    "def to_csv(filename, df):\n",
    "    print(f\"Total texts found: {len(df)}\")\n",
    "    with open(filename, 'w') as file:\n",
    "        file.write('index,embeddings\\n')  # Заголовок для столбцов\n",
    "        for i, chunk in enumerate(chunks(n_batch, df[['index', 'text']].values.tolist())):\n",
    "            try:\n",
    "                indices, texts = zip(*chunk)\n",
    "                encoded_chunk = model.encode(texts)\n",
    "                content = '\\n'.join([f'{index},{\":\".join(map(str, emb))}' for index, emb in zip(indices, encoded_chunk)])\n",
    "                file.write(content + '\\n')\n",
    "            except BaseException as e:\n",
    "                print(f\"Error in {i} chunk: {e}\")"
   ],
   "metadata": {
    "collapsed": false,
    "ExecuteTime": {
     "end_time": "2023-12-21T14:16:58.993625100Z",
     "start_time": "2023-12-21T14:16:58.976799900Z"
    }
   }
  },
  {
   "cell_type": "code",
   "execution_count": null,
   "outputs": [
    {
     "name": "stdout",
     "output_type": "stream",
     "text": [
      "Total texts found: 96225\n",
      "0\n",
      "1000\n",
      "2000\n",
      "3000\n"
     ]
    }
   ],
   "source": [
    "to_csv(vacancies_embeddings_path, processed_vacancies[['index', 'text']])"
   ],
   "metadata": {
    "collapsed": false,
    "is_executing": true,
    "ExecuteTime": {
     "start_time": "2023-12-21T14:17:05.059250700Z"
    }
   }
  },
  {
   "cell_type": "code",
   "execution_count": null,
   "outputs": [],
   "source": [
    "to_csv(cvs_embeddings_path, processed_cvs[['index', 'text']])"
   ],
   "metadata": {
    "collapsed": false
   }
  }
 ],
 "metadata": {
  "kernelspec": {
   "display_name": "Python 3",
   "language": "python",
   "name": "python3"
  },
  "language_info": {
   "codemirror_mode": {
    "name": "ipython",
    "version": 2
   },
   "file_extension": ".py",
   "mimetype": "text/x-python",
   "name": "python",
   "nbconvert_exporter": "python",
   "pygments_lexer": "ipython2",
   "version": "2.7.6"
  }
 },
 "nbformat": 4,
 "nbformat_minor": 0
}
